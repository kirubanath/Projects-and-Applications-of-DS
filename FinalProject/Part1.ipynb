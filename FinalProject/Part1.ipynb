{
  "nbformat": 4,
  "nbformat_minor": 0,
  "metadata": {
    "colab": {
      "provenance": []
    },
    "kernelspec": {
      "name": "python3",
      "display_name": "Python 3"
    },
    "language_info": {
      "name": "python"
    }
  },
  "cells": [
    {
      "cell_type": "markdown",
      "source": [
        "# PART - 1"
      ],
      "metadata": {
        "id": "ZhhBbpiXOcv0"
      }
    },
    {
      "cell_type": "markdown",
      "source": [
        "## Importing necessary libraries"
      ],
      "metadata": {
        "id": "SmX-GceSy7Mu"
      }
    },
    {
      "cell_type": "code",
      "execution_count": 205,
      "metadata": {
        "id": "LCC5bCqqy31l"
      },
      "outputs": [],
      "source": [
        "import pandas as pd\n",
        "import numpy as np\n",
        "import requests\n",
        "\n",
        "from bs4 import BeautifulSoup"
      ]
    },
    {
      "cell_type": "markdown",
      "source": [
        "## Making a request to the website"
      ],
      "metadata": {
        "id": "WcO4LY38zbGs"
      }
    },
    {
      "cell_type": "code",
      "source": [
        "source = requests.get('https://www.worldometers.info/coronavirus/')"
      ],
      "metadata": {
        "id": "Wy5HQxiPzM0b"
      },
      "execution_count": 206,
      "outputs": []
    },
    {
      "cell_type": "markdown",
      "source": [
        "## Creating a beautiful soup object"
      ],
      "metadata": {
        "id": "G_P8tXmez3On"
      }
    },
    {
      "cell_type": "code",
      "source": [
        "soup  = BeautifulSoup(source.content, features= 'html.parser')"
      ],
      "metadata": {
        "id": "QwLrDscyzlEi"
      },
      "execution_count": 207,
      "outputs": []
    },
    {
      "cell_type": "markdown",
      "source": [
        "## Scraping the information step by step"
      ],
      "metadata": {
        "id": "a6r1iEnO0QGJ"
      }
    },
    {
      "cell_type": "markdown",
      "source": [
        "1. Identifying the required table:"
      ],
      "metadata": {
        "id": "6BLt-4Yq31m7"
      }
    },
    {
      "cell_type": "code",
      "source": [
        "table = soup.find(id = \"main_table_countries_today\")"
      ],
      "metadata": {
        "id": "57GMxOpu0MTq"
      },
      "execution_count": 208,
      "outputs": []
    },
    {
      "cell_type": "markdown",
      "source": [
        "---\n",
        "2. get the information row wise since there doesnt seem to be unique class for each column."
      ],
      "metadata": {
        "id": "k88wMLxL4J5B"
      }
    },
    {
      "cell_type": "code",
      "source": [
        "thead = table.find('thead')"
      ],
      "metadata": {
        "id": "eYFrzTgF37xH"
      },
      "execution_count": 209,
      "outputs": []
    },
    {
      "cell_type": "code",
      "source": [
        "th = thead.find_all('th')"
      ],
      "metadata": {
        "id": "JXWlufc24_pa"
      },
      "execution_count": 210,
      "outputs": []
    },
    {
      "cell_type": "markdown",
      "source": [
        "---\n",
        "3. Get the tbodies and from there extract info about each row"
      ],
      "metadata": {
        "id": "ri22Mdvn-KIs"
      }
    },
    {
      "cell_type": "code",
      "source": [
        "tbody = table.find('tbody')"
      ],
      "metadata": {
        "id": "-9rNNtWr5e1y"
      },
      "execution_count": 211,
      "outputs": []
    },
    {
      "cell_type": "code",
      "source": [
        "row_info = tbody.find_all('tr')"
      ],
      "metadata": {
        "id": "0imJsQo-8yoh"
      },
      "execution_count": 212,
      "outputs": []
    },
    {
      "cell_type": "code",
      "source": [
        "row_info = row_info[8:]"
      ],
      "metadata": {
        "id": "0pzp3hek9U46"
      },
      "execution_count": 213,
      "outputs": []
    },
    {
      "cell_type": "markdown",
      "source": [
        "---\n",
        "4. By inspecting we understand the required columns as : 1,2,4,12,14"
      ],
      "metadata": {
        "id": "qPzCpvnw-8Oi"
      }
    },
    {
      "cell_type": "code",
      "source": [
        "def create_df(x):\n",
        "  \"\"\"\n",
        "  This function takes in the beautiful soup object of the table body and returns the dataframe with required information\n",
        "  \"\"\"\n",
        "  #creating a disctionary to store the required values row wise:\n",
        "  dic = {\n",
        "      'country' : [],\n",
        "      'cases': [],\n",
        "      'deaths': [],\n",
        "      'tests' : [],\n",
        "      'population':[]\n",
        "  }\n",
        "  \n",
        "  #loop to find all the column values: \n",
        "  for row in x:\n",
        "    r = row.find_all('td')\n",
        "\n",
        "    #country name:\n",
        "    dic['country'].append(r[1].text)\n",
        "\n",
        "    #total cases:\n",
        "    a = r[2].text.strip()\n",
        "    if a == 'N/A' or a == '':\n",
        "      dic['cases'].append(None)\n",
        "    else:\n",
        "      dic['cases'].append(int(a.replace(',','')))\n",
        "    \n",
        "    #total deaths:\n",
        "    a = r[4].text.strip()\n",
        "    if a == 'N/A' or a == '':\n",
        "      dic['deaths'].append(None)\n",
        "    else:\n",
        "      dic['deaths'].append(int(a.replace(',','')))\n",
        "    \n",
        "    #total test:\n",
        "    a = r[12].text.strip()\n",
        "    if a == 'N/A' or a ==  '':\n",
        "      dic['tests'].append(None)\n",
        "    else:\n",
        "      dic['tests'].append(int(a.replace(',','')))\n",
        "    \n",
        "    #population:\n",
        "    a = r[14].text.strip()\n",
        "    if a == 'N/A' or a =='':\n",
        "      dic['population'].append(None)\n",
        "    else:\n",
        "      dic['population'].append(int(a.replace(',','')))\n",
        "    \n",
        "  return pd.DataFrame(dic)"
      ],
      "metadata": {
        "id": "ZHl3K9n0EH54"
      },
      "execution_count": 214,
      "outputs": []
    },
    {
      "cell_type": "markdown",
      "source": [
        "---\n",
        "5. Creating the dataframe"
      ],
      "metadata": {
        "id": "GPHZkiAjE_vJ"
      }
    },
    {
      "cell_type": "code",
      "source": [
        "data_df = create_df(row_info)\n",
        "print(data_df.head())"
      ],
      "metadata": {
        "colab": {
          "base_uri": "https://localhost:8080/"
        },
        "id": "Up7i3IrzE_io",
        "outputId": "4b775859-62a9-4783-ecb1-98f33a9f647a"
      },
      "execution_count": 215,
      "outputs": [
        {
          "output_type": "stream",
          "name": "stdout",
          "text": [
            "   country      cases     deaths         tests    population\n",
            "0      USA  105020461  1142981.0  1.163387e+09  3.348053e+08\n",
            "1    India   44685257   530762.0  9.179870e+08  1.406632e+09\n",
            "2   France   39595964   164791.0  2.714902e+08  6.558452e+07\n",
            "3  Germany   38043874   167491.0  1.223324e+08  8.388360e+07\n",
            "4   Brazil   36987682   698047.0  6.377617e+07  2.153536e+08\n"
          ]
        }
      ]
    },
    {
      "cell_type": "markdown",
      "source": [
        "---\n",
        "6. setting country as the index"
      ],
      "metadata": {
        "id": "IUVQRjLuFsSB"
      }
    },
    {
      "cell_type": "code",
      "source": [
        "data_df = data_df.set_index('country')\n",
        "print(data_df.head())"
      ],
      "metadata": {
        "colab": {
          "base_uri": "https://localhost:8080/"
        },
        "id": "ZealRr6gFVBY",
        "outputId": "4dd557d2-24ac-4556-9c90-7afb53f61f25"
      },
      "execution_count": 216,
      "outputs": [
        {
          "output_type": "stream",
          "name": "stdout",
          "text": [
            "             cases     deaths         tests    population\n",
            "country                                                  \n",
            "USA      105020461  1142981.0  1.163387e+09  3.348053e+08\n",
            "India     44685257   530762.0  9.179870e+08  1.406632e+09\n",
            "France    39595964   164791.0  2.714902e+08  6.558452e+07\n",
            "Germany   38043874   167491.0  1.223324e+08  8.388360e+07\n",
            "Brazil    36987682   698047.0  6.377617e+07  2.153536e+08\n"
          ]
        }
      ]
    },
    {
      "cell_type": "markdown",
      "source": [
        "---\n",
        "7. Dropping the columns with null values:"
      ],
      "metadata": {
        "id": "6PV4HLIUGXBO"
      }
    },
    {
      "cell_type": "code",
      "source": [
        "data_df = data_df.dropna()"
      ],
      "metadata": {
        "id": "9Qn0qJmFGHgo"
      },
      "execution_count": 217,
      "outputs": []
    },
    {
      "cell_type": "code",
      "source": [
        "print(data_df.shape)"
      ],
      "metadata": {
        "colab": {
          "base_uri": "https://localhost:8080/"
        },
        "id": "PXeSNFzXGbrA",
        "outputId": "3d5fe375-bdf3-43f5-93ff-1d5f3e727283"
      },
      "execution_count": 218,
      "outputs": [
        {
          "output_type": "stream",
          "name": "stdout",
          "text": [
            "(212, 4)\n"
          ]
        }
      ]
    },
    {
      "cell_type": "code",
      "source": [
        "data_df.isnull().sum()"
      ],
      "metadata": {
        "colab": {
          "base_uri": "https://localhost:8080/"
        },
        "id": "yKvuSCCAGd3_",
        "outputId": "bc2a1a37-fd94-4ca6-a60a-255323bdb7ce"
      },
      "execution_count": 219,
      "outputs": [
        {
          "output_type": "execute_result",
          "data": {
            "text/plain": [
              "cases         0\n",
              "deaths        0\n",
              "tests         0\n",
              "population    0\n",
              "dtype: int64"
            ]
          },
          "metadata": {},
          "execution_count": 219
        }
      ]
    },
    {
      "cell_type": "markdown",
      "source": [
        "As we can see, we have dropped all the null columns."
      ],
      "metadata": {
        "id": "FlnUzou9GlA1"
      }
    },
    {
      "cell_type": "markdown",
      "source": [
        "---\n",
        "8. Converting the object types to integer"
      ],
      "metadata": {
        "id": "7KyEsDieGoCi"
      }
    },
    {
      "cell_type": "code",
      "source": [
        "data_df.info()"
      ],
      "metadata": {
        "colab": {
          "base_uri": "https://localhost:8080/"
        },
        "id": "djWy0JPeGj-_",
        "outputId": "104f5b6d-6697-4329-dfc8-fcd4a48358d1"
      },
      "execution_count": 220,
      "outputs": [
        {
          "output_type": "stream",
          "name": "stdout",
          "text": [
            "<class 'pandas.core.frame.DataFrame'>\n",
            "Index: 212 entries, USA to China\n",
            "Data columns (total 4 columns):\n",
            " #   Column      Non-Null Count  Dtype  \n",
            "---  ------      --------------  -----  \n",
            " 0   cases       212 non-null    int64  \n",
            " 1   deaths      212 non-null    float64\n",
            " 2   tests       212 non-null    float64\n",
            " 3   population  212 non-null    float64\n",
            "dtypes: float64(3), int64(1)\n",
            "memory usage: 8.3+ KB\n"
          ]
        }
      ]
    },
    {
      "cell_type": "code",
      "source": [
        "data_df.deaths = data_df.deaths.astype(int)\n",
        "data_df.tests = data_df.tests.astype(int)\n",
        "data_df.population = data_df.population.astype(int)\n"
      ],
      "metadata": {
        "colab": {
          "base_uri": "https://localhost:8080/"
        },
        "id": "24OGNsQJG-yY",
        "outputId": "1c191446-0839-478d-cf77-ff61336f928a"
      },
      "execution_count": 221,
      "outputs": [
        {
          "output_type": "stream",
          "name": "stderr",
          "text": [
            "/usr/local/lib/python3.8/dist-packages/pandas/core/generic.py:5516: SettingWithCopyWarning: \n",
            "A value is trying to be set on a copy of a slice from a DataFrame.\n",
            "Try using .loc[row_indexer,col_indexer] = value instead\n",
            "\n",
            "See the caveats in the documentation: https://pandas.pydata.org/pandas-docs/stable/user_guide/indexing.html#returning-a-view-versus-a-copy\n",
            "  self[name] = value\n"
          ]
        }
      ]
    },
    {
      "cell_type": "code",
      "source": [
        "data_df.info()"
      ],
      "metadata": {
        "colab": {
          "base_uri": "https://localhost:8080/"
        },
        "id": "MmYg_zfDHK_v",
        "outputId": "33cac661-c45d-463a-c727-b4c4ffaf8924"
      },
      "execution_count": 222,
      "outputs": [
        {
          "output_type": "stream",
          "name": "stdout",
          "text": [
            "<class 'pandas.core.frame.DataFrame'>\n",
            "Index: 212 entries, USA to China\n",
            "Data columns (total 4 columns):\n",
            " #   Column      Non-Null Count  Dtype\n",
            "---  ------      --------------  -----\n",
            " 0   cases       212 non-null    int64\n",
            " 1   deaths      212 non-null    int64\n",
            " 2   tests       212 non-null    int64\n",
            " 3   population  212 non-null    int64\n",
            "dtypes: int64(4)\n",
            "memory usage: 8.3+ KB\n"
          ]
        }
      ]
    },
    {
      "cell_type": "markdown",
      "source": [
        "---\n",
        "9. total deaths = 0 /  total tests = 0"
      ],
      "metadata": {
        "id": "Xo1ZEVIsHU_z"
      }
    },
    {
      "cell_type": "code",
      "source": [
        "data_df[(data_df.tests ==0) | (data_df.deaths == 0)]"
      ],
      "metadata": {
        "colab": {
          "base_uri": "https://localhost:8080/",
          "height": 81
        },
        "id": "et7pYrjJHMdI",
        "outputId": "75aad3f5-604d-4222-925b-571366152ed4"
      },
      "execution_count": 223,
      "outputs": [
        {
          "output_type": "execute_result",
          "data": {
            "text/plain": [
              "Empty DataFrame\n",
              "Columns: [cases, deaths, tests, population]\n",
              "Index: []"
            ],
            "text/html": [
              "\n",
              "  <div id=\"df-07c6663d-6774-4d30-8224-a26b0d112d61\">\n",
              "    <div class=\"colab-df-container\">\n",
              "      <div>\n",
              "<style scoped>\n",
              "    .dataframe tbody tr th:only-of-type {\n",
              "        vertical-align: middle;\n",
              "    }\n",
              "\n",
              "    .dataframe tbody tr th {\n",
              "        vertical-align: top;\n",
              "    }\n",
              "\n",
              "    .dataframe thead th {\n",
              "        text-align: right;\n",
              "    }\n",
              "</style>\n",
              "<table border=\"1\" class=\"dataframe\">\n",
              "  <thead>\n",
              "    <tr style=\"text-align: right;\">\n",
              "      <th></th>\n",
              "      <th>cases</th>\n",
              "      <th>deaths</th>\n",
              "      <th>tests</th>\n",
              "      <th>population</th>\n",
              "    </tr>\n",
              "    <tr>\n",
              "      <th>country</th>\n",
              "      <th></th>\n",
              "      <th></th>\n",
              "      <th></th>\n",
              "      <th></th>\n",
              "    </tr>\n",
              "  </thead>\n",
              "  <tbody>\n",
              "  </tbody>\n",
              "</table>\n",
              "</div>\n",
              "      <button class=\"colab-df-convert\" onclick=\"convertToInteractive('df-07c6663d-6774-4d30-8224-a26b0d112d61')\"\n",
              "              title=\"Convert this dataframe to an interactive table.\"\n",
              "              style=\"display:none;\">\n",
              "        \n",
              "  <svg xmlns=\"http://www.w3.org/2000/svg\" height=\"24px\"viewBox=\"0 0 24 24\"\n",
              "       width=\"24px\">\n",
              "    <path d=\"M0 0h24v24H0V0z\" fill=\"none\"/>\n",
              "    <path d=\"M18.56 5.44l.94 2.06.94-2.06 2.06-.94-2.06-.94-.94-2.06-.94 2.06-2.06.94zm-11 1L8.5 8.5l.94-2.06 2.06-.94-2.06-.94L8.5 2.5l-.94 2.06-2.06.94zm10 10l.94 2.06.94-2.06 2.06-.94-2.06-.94-.94-2.06-.94 2.06-2.06.94z\"/><path d=\"M17.41 7.96l-1.37-1.37c-.4-.4-.92-.59-1.43-.59-.52 0-1.04.2-1.43.59L10.3 9.45l-7.72 7.72c-.78.78-.78 2.05 0 2.83L4 21.41c.39.39.9.59 1.41.59.51 0 1.02-.2 1.41-.59l7.78-7.78 2.81-2.81c.8-.78.8-2.07 0-2.86zM5.41 20L4 18.59l7.72-7.72 1.47 1.35L5.41 20z\"/>\n",
              "  </svg>\n",
              "      </button>\n",
              "      \n",
              "  <style>\n",
              "    .colab-df-container {\n",
              "      display:flex;\n",
              "      flex-wrap:wrap;\n",
              "      gap: 12px;\n",
              "    }\n",
              "\n",
              "    .colab-df-convert {\n",
              "      background-color: #E8F0FE;\n",
              "      border: none;\n",
              "      border-radius: 50%;\n",
              "      cursor: pointer;\n",
              "      display: none;\n",
              "      fill: #1967D2;\n",
              "      height: 32px;\n",
              "      padding: 0 0 0 0;\n",
              "      width: 32px;\n",
              "    }\n",
              "\n",
              "    .colab-df-convert:hover {\n",
              "      background-color: #E2EBFA;\n",
              "      box-shadow: 0px 1px 2px rgba(60, 64, 67, 0.3), 0px 1px 3px 1px rgba(60, 64, 67, 0.15);\n",
              "      fill: #174EA6;\n",
              "    }\n",
              "\n",
              "    [theme=dark] .colab-df-convert {\n",
              "      background-color: #3B4455;\n",
              "      fill: #D2E3FC;\n",
              "    }\n",
              "\n",
              "    [theme=dark] .colab-df-convert:hover {\n",
              "      background-color: #434B5C;\n",
              "      box-shadow: 0px 1px 3px 1px rgba(0, 0, 0, 0.15);\n",
              "      filter: drop-shadow(0px 1px 2px rgba(0, 0, 0, 0.3));\n",
              "      fill: #FFFFFF;\n",
              "    }\n",
              "  </style>\n",
              "\n",
              "      <script>\n",
              "        const buttonEl =\n",
              "          document.querySelector('#df-07c6663d-6774-4d30-8224-a26b0d112d61 button.colab-df-convert');\n",
              "        buttonEl.style.display =\n",
              "          google.colab.kernel.accessAllowed ? 'block' : 'none';\n",
              "\n",
              "        async function convertToInteractive(key) {\n",
              "          const element = document.querySelector('#df-07c6663d-6774-4d30-8224-a26b0d112d61');\n",
              "          const dataTable =\n",
              "            await google.colab.kernel.invokeFunction('convertToInteractive',\n",
              "                                                     [key], {});\n",
              "          if (!dataTable) return;\n",
              "\n",
              "          const docLinkHtml = 'Like what you see? Visit the ' +\n",
              "            '<a target=\"_blank\" href=https://colab.research.google.com/notebooks/data_table.ipynb>data table notebook</a>'\n",
              "            + ' to learn more about interactive tables.';\n",
              "          element.innerHTML = '';\n",
              "          dataTable['output_type'] = 'display_data';\n",
              "          await google.colab.output.renderOutput(dataTable, element);\n",
              "          const docLink = document.createElement('div');\n",
              "          docLink.innerHTML = docLinkHtml;\n",
              "          element.appendChild(docLink);\n",
              "        }\n",
              "      </script>\n",
              "    </div>\n",
              "  </div>\n",
              "  "
            ]
          },
          "metadata": {},
          "execution_count": 223
        }
      ]
    },
    {
      "cell_type": "markdown",
      "source": [
        "This is becasue while creating the dataframe itself i have taken care of those cases."
      ],
      "metadata": {
        "id": "nGM7d5WtH3uH"
      }
    },
    {
      "cell_type": "markdown",
      "source": [
        "---\n",
        "10. Tests per case: "
      ],
      "metadata": {
        "id": "XuyfAgWkIBfo"
      }
    },
    {
      "cell_type": "code",
      "source": [
        "data_df['test_per_case'] = data_df.tests/data_df.cases"
      ],
      "metadata": {
        "colab": {
          "base_uri": "https://localhost:8080/"
        },
        "id": "aepCPvFxHxl_",
        "outputId": "49a376d6-09d3-4869-f8cf-a7ff559fb83a"
      },
      "execution_count": 224,
      "outputs": [
        {
          "output_type": "stream",
          "name": "stderr",
          "text": [
            "<ipython-input-224-198cee0852a8>:1: SettingWithCopyWarning: \n",
            "A value is trying to be set on a copy of a slice from a DataFrame.\n",
            "Try using .loc[row_indexer,col_indexer] = value instead\n",
            "\n",
            "See the caveats in the documentation: https://pandas.pydata.org/pandas-docs/stable/user_guide/indexing.html#returning-a-view-versus-a-copy\n",
            "  data_df['test_per_case'] = data_df.tests/data_df.cases\n"
          ]
        }
      ]
    },
    {
      "cell_type": "code",
      "source": [
        "data_df.head()"
      ],
      "metadata": {
        "colab": {
          "base_uri": "https://localhost:8080/",
          "height": 237
        },
        "id": "H_nl9rg5IJwP",
        "outputId": "186385cb-85a5-491c-bd87-6f928125bdf1"
      },
      "execution_count": 225,
      "outputs": [
        {
          "output_type": "execute_result",
          "data": {
            "text/plain": [
              "             cases   deaths       tests  population  test_per_case\n",
              "country                                                           \n",
              "USA      105020461  1142981  1163387226   334805269      11.077720\n",
              "India     44685257   530762   917986992  1406631776      20.543397\n",
              "France    39595964   164791   271490188    65584518       6.856512\n",
              "Germany   38043874   167491   122332384    83883596       3.215561\n",
              "Brazil    36987682   698047    63776166   215353593       1.724254"
            ],
            "text/html": [
              "\n",
              "  <div id=\"df-9f7860c9-15c4-40fb-9f22-5f9bbe601661\">\n",
              "    <div class=\"colab-df-container\">\n",
              "      <div>\n",
              "<style scoped>\n",
              "    .dataframe tbody tr th:only-of-type {\n",
              "        vertical-align: middle;\n",
              "    }\n",
              "\n",
              "    .dataframe tbody tr th {\n",
              "        vertical-align: top;\n",
              "    }\n",
              "\n",
              "    .dataframe thead th {\n",
              "        text-align: right;\n",
              "    }\n",
              "</style>\n",
              "<table border=\"1\" class=\"dataframe\">\n",
              "  <thead>\n",
              "    <tr style=\"text-align: right;\">\n",
              "      <th></th>\n",
              "      <th>cases</th>\n",
              "      <th>deaths</th>\n",
              "      <th>tests</th>\n",
              "      <th>population</th>\n",
              "      <th>test_per_case</th>\n",
              "    </tr>\n",
              "    <tr>\n",
              "      <th>country</th>\n",
              "      <th></th>\n",
              "      <th></th>\n",
              "      <th></th>\n",
              "      <th></th>\n",
              "      <th></th>\n",
              "    </tr>\n",
              "  </thead>\n",
              "  <tbody>\n",
              "    <tr>\n",
              "      <th>USA</th>\n",
              "      <td>105020461</td>\n",
              "      <td>1142981</td>\n",
              "      <td>1163387226</td>\n",
              "      <td>334805269</td>\n",
              "      <td>11.077720</td>\n",
              "    </tr>\n",
              "    <tr>\n",
              "      <th>India</th>\n",
              "      <td>44685257</td>\n",
              "      <td>530762</td>\n",
              "      <td>917986992</td>\n",
              "      <td>1406631776</td>\n",
              "      <td>20.543397</td>\n",
              "    </tr>\n",
              "    <tr>\n",
              "      <th>France</th>\n",
              "      <td>39595964</td>\n",
              "      <td>164791</td>\n",
              "      <td>271490188</td>\n",
              "      <td>65584518</td>\n",
              "      <td>6.856512</td>\n",
              "    </tr>\n",
              "    <tr>\n",
              "      <th>Germany</th>\n",
              "      <td>38043874</td>\n",
              "      <td>167491</td>\n",
              "      <td>122332384</td>\n",
              "      <td>83883596</td>\n",
              "      <td>3.215561</td>\n",
              "    </tr>\n",
              "    <tr>\n",
              "      <th>Brazil</th>\n",
              "      <td>36987682</td>\n",
              "      <td>698047</td>\n",
              "      <td>63776166</td>\n",
              "      <td>215353593</td>\n",
              "      <td>1.724254</td>\n",
              "    </tr>\n",
              "  </tbody>\n",
              "</table>\n",
              "</div>\n",
              "      <button class=\"colab-df-convert\" onclick=\"convertToInteractive('df-9f7860c9-15c4-40fb-9f22-5f9bbe601661')\"\n",
              "              title=\"Convert this dataframe to an interactive table.\"\n",
              "              style=\"display:none;\">\n",
              "        \n",
              "  <svg xmlns=\"http://www.w3.org/2000/svg\" height=\"24px\"viewBox=\"0 0 24 24\"\n",
              "       width=\"24px\">\n",
              "    <path d=\"M0 0h24v24H0V0z\" fill=\"none\"/>\n",
              "    <path d=\"M18.56 5.44l.94 2.06.94-2.06 2.06-.94-2.06-.94-.94-2.06-.94 2.06-2.06.94zm-11 1L8.5 8.5l.94-2.06 2.06-.94-2.06-.94L8.5 2.5l-.94 2.06-2.06.94zm10 10l.94 2.06.94-2.06 2.06-.94-2.06-.94-.94-2.06-.94 2.06-2.06.94z\"/><path d=\"M17.41 7.96l-1.37-1.37c-.4-.4-.92-.59-1.43-.59-.52 0-1.04.2-1.43.59L10.3 9.45l-7.72 7.72c-.78.78-.78 2.05 0 2.83L4 21.41c.39.39.9.59 1.41.59.51 0 1.02-.2 1.41-.59l7.78-7.78 2.81-2.81c.8-.78.8-2.07 0-2.86zM5.41 20L4 18.59l7.72-7.72 1.47 1.35L5.41 20z\"/>\n",
              "  </svg>\n",
              "      </button>\n",
              "      \n",
              "  <style>\n",
              "    .colab-df-container {\n",
              "      display:flex;\n",
              "      flex-wrap:wrap;\n",
              "      gap: 12px;\n",
              "    }\n",
              "\n",
              "    .colab-df-convert {\n",
              "      background-color: #E8F0FE;\n",
              "      border: none;\n",
              "      border-radius: 50%;\n",
              "      cursor: pointer;\n",
              "      display: none;\n",
              "      fill: #1967D2;\n",
              "      height: 32px;\n",
              "      padding: 0 0 0 0;\n",
              "      width: 32px;\n",
              "    }\n",
              "\n",
              "    .colab-df-convert:hover {\n",
              "      background-color: #E2EBFA;\n",
              "      box-shadow: 0px 1px 2px rgba(60, 64, 67, 0.3), 0px 1px 3px 1px rgba(60, 64, 67, 0.15);\n",
              "      fill: #174EA6;\n",
              "    }\n",
              "\n",
              "    [theme=dark] .colab-df-convert {\n",
              "      background-color: #3B4455;\n",
              "      fill: #D2E3FC;\n",
              "    }\n",
              "\n",
              "    [theme=dark] .colab-df-convert:hover {\n",
              "      background-color: #434B5C;\n",
              "      box-shadow: 0px 1px 3px 1px rgba(0, 0, 0, 0.15);\n",
              "      filter: drop-shadow(0px 1px 2px rgba(0, 0, 0, 0.3));\n",
              "      fill: #FFFFFF;\n",
              "    }\n",
              "  </style>\n",
              "\n",
              "      <script>\n",
              "        const buttonEl =\n",
              "          document.querySelector('#df-9f7860c9-15c4-40fb-9f22-5f9bbe601661 button.colab-df-convert');\n",
              "        buttonEl.style.display =\n",
              "          google.colab.kernel.accessAllowed ? 'block' : 'none';\n",
              "\n",
              "        async function convertToInteractive(key) {\n",
              "          const element = document.querySelector('#df-9f7860c9-15c4-40fb-9f22-5f9bbe601661');\n",
              "          const dataTable =\n",
              "            await google.colab.kernel.invokeFunction('convertToInteractive',\n",
              "                                                     [key], {});\n",
              "          if (!dataTable) return;\n",
              "\n",
              "          const docLinkHtml = 'Like what you see? Visit the ' +\n",
              "            '<a target=\"_blank\" href=https://colab.research.google.com/notebooks/data_table.ipynb>data table notebook</a>'\n",
              "            + ' to learn more about interactive tables.';\n",
              "          element.innerHTML = '';\n",
              "          dataTable['output_type'] = 'display_data';\n",
              "          await google.colab.output.renderOutput(dataTable, element);\n",
              "          const docLink = document.createElement('div');\n",
              "          docLink.innerHTML = docLinkHtml;\n",
              "          element.appendChild(docLink);\n",
              "        }\n",
              "      </script>\n",
              "    </div>\n",
              "  </div>\n",
              "  "
            ]
          },
          "metadata": {},
          "execution_count": 225
        }
      ]
    },
    {
      "cell_type": "markdown",
      "source": [
        "---\n",
        "11. sorting the table:"
      ],
      "metadata": {
        "id": "5qEi-iAOIYdJ"
      }
    },
    {
      "cell_type": "code",
      "source": [
        "#descending order:\n",
        "data_df = data_df.sort_values(by = ['test_per_case'],ascending = False)"
      ],
      "metadata": {
        "id": "xUdXDKdsILBn"
      },
      "execution_count": 226,
      "outputs": []
    },
    {
      "cell_type": "code",
      "source": [
        "print(data_df.head(20))"
      ],
      "metadata": {
        "colab": {
          "base_uri": "https://localhost:8080/"
        },
        "id": "sDrgR5alIlTv",
        "outputId": "fe6b9ce0-c981-49b5-e4b4-96254eae6bf4"
      },
      "execution_count": 227,
      "outputs": [
        {
          "output_type": "stream",
          "name": "stdout",
          "text": [
            "                     cases  deaths      tests  population  test_per_case\n",
            "country                                                                 \n",
            "China               503302    5272  160000000  1448471400     317.900585\n",
            "UAE                1051336    2348  199104417    10081785     189.382288\n",
            "Turks and Caicos      6551      38     611527       39741      93.348649\n",
            "Oman                399449    4628   25000000     5323993      62.586213\n",
            "Bermuda              18791     159    1026742       61939      54.640094\n",
            "Saudi Arabia        829041    9606   45121063    35844909      54.425611\n",
            "Rwanda              133170    1468    5959042    13600464      44.747631\n",
            "Denmark            3174758    8237  129185732     5834950      40.691521\n",
            "Bhutan               62611      21    2303734      787941      36.794397\n",
            "Austria            5871234   21825  211273524     9066710      35.984518\n",
            "Spain             13755956  119186  471036328    46719142      34.242355\n",
            "Sierra Leone          7760     126     259958     8306436      33.499742\n",
            "Gabon                48981     306    1621909     2331533      33.113023\n",
            "Tonga                16801      13     535009      107749      31.843878\n",
            "Yemen                11945    2159     329592    31154867      27.592465\n",
            "Hong Kong          2882553   13445   76127725     7604299      26.409827\n",
            "Gibraltar            20420     111     534283       33704      26.164691\n",
            "Niger                 9931     312     254538    26083660      25.630651\n",
            "Chad                  7675     194     191341    17413580      24.930423\n",
            "Mali                 32946     743     794233    21473764      24.107115\n"
          ]
        }
      ]
    },
    {
      "cell_type": "code",
      "source": [
        "#ascending order:\n",
        "print(data_df.sort_values(by = ['test_per_case']).head(20))\n"
      ],
      "metadata": {
        "colab": {
          "base_uri": "https://localhost:8080/"
        },
        "id": "GiwQgVEgIn1f",
        "outputId": "6a53fc0d-158b-4bc9-e1e3-f8c08045b742"
      },
      "execution_count": 228,
      "outputs": [
        {
          "output_type": "stream",
          "name": "stdout",
          "text": [
            "                          cases  deaths     tests  population  test_per_case\n",
            "country                                                                     \n",
            "S. Korea               30458857   33887  15804065    51329899       0.518866\n",
            "Algeria                  271428    6881    230861    45350148       0.850542\n",
            "New Caledonia             79871     314     98964      290915       1.239048\n",
            "Brazil                 36987682  698047  63776166   215353593       1.724254\n",
            "Antigua and Barbuda        9106     146     18901       99509       2.075664\n",
            "Vanuatu                   12014      14     24976      321832       2.078908\n",
            "Slovenia                1326367    7067   2834333     2078034       2.136915\n",
            "Macao                      3513     121      7850      667490       2.234557\n",
            "Bolivia                 1192246   22362   2705422    11992656       2.269181\n",
            "Micronesia                23671      60     54967      117489       2.322124\n",
            "Eritrea                   10189     103     23693     3662244       2.325351\n",
            "Syria                     57463    3164    146269    19364809       2.545447\n",
            "Caribbean Netherlands     11668      38     30126       26647       2.581933\n",
            "Brunei                   276825     225    717784      445431       2.592916\n",
            "Mexico                  7430816  332850  19519260   131562772       2.626799\n",
            "Cook Islands               7025       2     19690       17571       2.802847\n",
            "Japan                  33136016   71923  94608068   125584838       2.855143\n",
            "Ecuador                 1056578   36008   3082403    18113361       2.917345\n",
            "Suriname                  82227    1400    240907      596831       2.929780\n",
            "Netherlands             8591721   22992  25984435    17211447       3.024357\n"
          ]
        }
      ]
    },
    {
      "cell_type": "markdown",
      "source": [
        "## Conclusion:\n",
        "\n",
        "The country with the highest test per case is china and the country with the lowest test per case is north korea. It does not look like that the test_per_Case has any kind of effect in preventing the deaths, but lets plot some graphs to investigate this clearly."
      ],
      "metadata": {
        "id": "ToQtpnaFJU_I"
      }
    },
    {
      "cell_type": "code",
      "source": [
        "df_low = data_df.sort_values(by = ['test_per_case']).head(20)\n",
        "df_low['death_ratio'] = df_low.deaths/df_low.population\n",
        "df_low"
      ],
      "metadata": {
        "colab": {
          "base_uri": "https://localhost:8080/",
          "height": 707
        },
        "id": "vv_ISttXJN53",
        "outputId": "45063a12-5178-4dd7-ec2e-69e065f0ca94"
      },
      "execution_count": 229,
      "outputs": [
        {
          "output_type": "execute_result",
          "data": {
            "text/plain": [
              "                          cases  deaths     tests  population  test_per_case  \\\n",
              "country                                                                        \n",
              "S. Korea               30458857   33887  15804065    51329899       0.518866   \n",
              "Algeria                  271428    6881    230861    45350148       0.850542   \n",
              "New Caledonia             79871     314     98964      290915       1.239048   \n",
              "Brazil                 36987682  698047  63776166   215353593       1.724254   \n",
              "Antigua and Barbuda        9106     146     18901       99509       2.075664   \n",
              "Vanuatu                   12014      14     24976      321832       2.078908   \n",
              "Slovenia                1326367    7067   2834333     2078034       2.136915   \n",
              "Macao                      3513     121      7850      667490       2.234557   \n",
              "Bolivia                 1192246   22362   2705422    11992656       2.269181   \n",
              "Micronesia                23671      60     54967      117489       2.322124   \n",
              "Eritrea                   10189     103     23693     3662244       2.325351   \n",
              "Syria                     57463    3164    146269    19364809       2.545447   \n",
              "Caribbean Netherlands     11668      38     30126       26647       2.581933   \n",
              "Brunei                   276825     225    717784      445431       2.592916   \n",
              "Mexico                  7430816  332850  19519260   131562772       2.626799   \n",
              "Cook Islands               7025       2     19690       17571       2.802847   \n",
              "Japan                  33136016   71923  94608068   125584838       2.855143   \n",
              "Ecuador                 1056578   36008   3082403    18113361       2.917345   \n",
              "Suriname                  82227    1400    240907      596831       2.929780   \n",
              "Netherlands             8591721   22992  25984435    17211447       3.024357   \n",
              "\n",
              "                       death_ratio  \n",
              "country                             \n",
              "S. Korea                  0.000660  \n",
              "Algeria                   0.000152  \n",
              "New Caledonia             0.001079  \n",
              "Brazil                    0.003241  \n",
              "Antigua and Barbuda       0.001467  \n",
              "Vanuatu                   0.000044  \n",
              "Slovenia                  0.003401  \n",
              "Macao                     0.000181  \n",
              "Bolivia                   0.001865  \n",
              "Micronesia                0.000511  \n",
              "Eritrea                   0.000028  \n",
              "Syria                     0.000163  \n",
              "Caribbean Netherlands     0.001426  \n",
              "Brunei                    0.000505  \n",
              "Mexico                    0.002530  \n",
              "Cook Islands              0.000114  \n",
              "Japan                     0.000573  \n",
              "Ecuador                   0.001988  \n",
              "Suriname                  0.002346  \n",
              "Netherlands               0.001336  "
            ],
            "text/html": [
              "\n",
              "  <div id=\"df-cce649ab-bfe4-4304-9f89-cf9175f3f500\">\n",
              "    <div class=\"colab-df-container\">\n",
              "      <div>\n",
              "<style scoped>\n",
              "    .dataframe tbody tr th:only-of-type {\n",
              "        vertical-align: middle;\n",
              "    }\n",
              "\n",
              "    .dataframe tbody tr th {\n",
              "        vertical-align: top;\n",
              "    }\n",
              "\n",
              "    .dataframe thead th {\n",
              "        text-align: right;\n",
              "    }\n",
              "</style>\n",
              "<table border=\"1\" class=\"dataframe\">\n",
              "  <thead>\n",
              "    <tr style=\"text-align: right;\">\n",
              "      <th></th>\n",
              "      <th>cases</th>\n",
              "      <th>deaths</th>\n",
              "      <th>tests</th>\n",
              "      <th>population</th>\n",
              "      <th>test_per_case</th>\n",
              "      <th>death_ratio</th>\n",
              "    </tr>\n",
              "    <tr>\n",
              "      <th>country</th>\n",
              "      <th></th>\n",
              "      <th></th>\n",
              "      <th></th>\n",
              "      <th></th>\n",
              "      <th></th>\n",
              "      <th></th>\n",
              "    </tr>\n",
              "  </thead>\n",
              "  <tbody>\n",
              "    <tr>\n",
              "      <th>S. Korea</th>\n",
              "      <td>30458857</td>\n",
              "      <td>33887</td>\n",
              "      <td>15804065</td>\n",
              "      <td>51329899</td>\n",
              "      <td>0.518866</td>\n",
              "      <td>0.000660</td>\n",
              "    </tr>\n",
              "    <tr>\n",
              "      <th>Algeria</th>\n",
              "      <td>271428</td>\n",
              "      <td>6881</td>\n",
              "      <td>230861</td>\n",
              "      <td>45350148</td>\n",
              "      <td>0.850542</td>\n",
              "      <td>0.000152</td>\n",
              "    </tr>\n",
              "    <tr>\n",
              "      <th>New Caledonia</th>\n",
              "      <td>79871</td>\n",
              "      <td>314</td>\n",
              "      <td>98964</td>\n",
              "      <td>290915</td>\n",
              "      <td>1.239048</td>\n",
              "      <td>0.001079</td>\n",
              "    </tr>\n",
              "    <tr>\n",
              "      <th>Brazil</th>\n",
              "      <td>36987682</td>\n",
              "      <td>698047</td>\n",
              "      <td>63776166</td>\n",
              "      <td>215353593</td>\n",
              "      <td>1.724254</td>\n",
              "      <td>0.003241</td>\n",
              "    </tr>\n",
              "    <tr>\n",
              "      <th>Antigua and Barbuda</th>\n",
              "      <td>9106</td>\n",
              "      <td>146</td>\n",
              "      <td>18901</td>\n",
              "      <td>99509</td>\n",
              "      <td>2.075664</td>\n",
              "      <td>0.001467</td>\n",
              "    </tr>\n",
              "    <tr>\n",
              "      <th>Vanuatu</th>\n",
              "      <td>12014</td>\n",
              "      <td>14</td>\n",
              "      <td>24976</td>\n",
              "      <td>321832</td>\n",
              "      <td>2.078908</td>\n",
              "      <td>0.000044</td>\n",
              "    </tr>\n",
              "    <tr>\n",
              "      <th>Slovenia</th>\n",
              "      <td>1326367</td>\n",
              "      <td>7067</td>\n",
              "      <td>2834333</td>\n",
              "      <td>2078034</td>\n",
              "      <td>2.136915</td>\n",
              "      <td>0.003401</td>\n",
              "    </tr>\n",
              "    <tr>\n",
              "      <th>Macao</th>\n",
              "      <td>3513</td>\n",
              "      <td>121</td>\n",
              "      <td>7850</td>\n",
              "      <td>667490</td>\n",
              "      <td>2.234557</td>\n",
              "      <td>0.000181</td>\n",
              "    </tr>\n",
              "    <tr>\n",
              "      <th>Bolivia</th>\n",
              "      <td>1192246</td>\n",
              "      <td>22362</td>\n",
              "      <td>2705422</td>\n",
              "      <td>11992656</td>\n",
              "      <td>2.269181</td>\n",
              "      <td>0.001865</td>\n",
              "    </tr>\n",
              "    <tr>\n",
              "      <th>Micronesia</th>\n",
              "      <td>23671</td>\n",
              "      <td>60</td>\n",
              "      <td>54967</td>\n",
              "      <td>117489</td>\n",
              "      <td>2.322124</td>\n",
              "      <td>0.000511</td>\n",
              "    </tr>\n",
              "    <tr>\n",
              "      <th>Eritrea</th>\n",
              "      <td>10189</td>\n",
              "      <td>103</td>\n",
              "      <td>23693</td>\n",
              "      <td>3662244</td>\n",
              "      <td>2.325351</td>\n",
              "      <td>0.000028</td>\n",
              "    </tr>\n",
              "    <tr>\n",
              "      <th>Syria</th>\n",
              "      <td>57463</td>\n",
              "      <td>3164</td>\n",
              "      <td>146269</td>\n",
              "      <td>19364809</td>\n",
              "      <td>2.545447</td>\n",
              "      <td>0.000163</td>\n",
              "    </tr>\n",
              "    <tr>\n",
              "      <th>Caribbean Netherlands</th>\n",
              "      <td>11668</td>\n",
              "      <td>38</td>\n",
              "      <td>30126</td>\n",
              "      <td>26647</td>\n",
              "      <td>2.581933</td>\n",
              "      <td>0.001426</td>\n",
              "    </tr>\n",
              "    <tr>\n",
              "      <th>Brunei</th>\n",
              "      <td>276825</td>\n",
              "      <td>225</td>\n",
              "      <td>717784</td>\n",
              "      <td>445431</td>\n",
              "      <td>2.592916</td>\n",
              "      <td>0.000505</td>\n",
              "    </tr>\n",
              "    <tr>\n",
              "      <th>Mexico</th>\n",
              "      <td>7430816</td>\n",
              "      <td>332850</td>\n",
              "      <td>19519260</td>\n",
              "      <td>131562772</td>\n",
              "      <td>2.626799</td>\n",
              "      <td>0.002530</td>\n",
              "    </tr>\n",
              "    <tr>\n",
              "      <th>Cook Islands</th>\n",
              "      <td>7025</td>\n",
              "      <td>2</td>\n",
              "      <td>19690</td>\n",
              "      <td>17571</td>\n",
              "      <td>2.802847</td>\n",
              "      <td>0.000114</td>\n",
              "    </tr>\n",
              "    <tr>\n",
              "      <th>Japan</th>\n",
              "      <td>33136016</td>\n",
              "      <td>71923</td>\n",
              "      <td>94608068</td>\n",
              "      <td>125584838</td>\n",
              "      <td>2.855143</td>\n",
              "      <td>0.000573</td>\n",
              "    </tr>\n",
              "    <tr>\n",
              "      <th>Ecuador</th>\n",
              "      <td>1056578</td>\n",
              "      <td>36008</td>\n",
              "      <td>3082403</td>\n",
              "      <td>18113361</td>\n",
              "      <td>2.917345</td>\n",
              "      <td>0.001988</td>\n",
              "    </tr>\n",
              "    <tr>\n",
              "      <th>Suriname</th>\n",
              "      <td>82227</td>\n",
              "      <td>1400</td>\n",
              "      <td>240907</td>\n",
              "      <td>596831</td>\n",
              "      <td>2.929780</td>\n",
              "      <td>0.002346</td>\n",
              "    </tr>\n",
              "    <tr>\n",
              "      <th>Netherlands</th>\n",
              "      <td>8591721</td>\n",
              "      <td>22992</td>\n",
              "      <td>25984435</td>\n",
              "      <td>17211447</td>\n",
              "      <td>3.024357</td>\n",
              "      <td>0.001336</td>\n",
              "    </tr>\n",
              "  </tbody>\n",
              "</table>\n",
              "</div>\n",
              "      <button class=\"colab-df-convert\" onclick=\"convertToInteractive('df-cce649ab-bfe4-4304-9f89-cf9175f3f500')\"\n",
              "              title=\"Convert this dataframe to an interactive table.\"\n",
              "              style=\"display:none;\">\n",
              "        \n",
              "  <svg xmlns=\"http://www.w3.org/2000/svg\" height=\"24px\"viewBox=\"0 0 24 24\"\n",
              "       width=\"24px\">\n",
              "    <path d=\"M0 0h24v24H0V0z\" fill=\"none\"/>\n",
              "    <path d=\"M18.56 5.44l.94 2.06.94-2.06 2.06-.94-2.06-.94-.94-2.06-.94 2.06-2.06.94zm-11 1L8.5 8.5l.94-2.06 2.06-.94-2.06-.94L8.5 2.5l-.94 2.06-2.06.94zm10 10l.94 2.06.94-2.06 2.06-.94-2.06-.94-.94-2.06-.94 2.06-2.06.94z\"/><path d=\"M17.41 7.96l-1.37-1.37c-.4-.4-.92-.59-1.43-.59-.52 0-1.04.2-1.43.59L10.3 9.45l-7.72 7.72c-.78.78-.78 2.05 0 2.83L4 21.41c.39.39.9.59 1.41.59.51 0 1.02-.2 1.41-.59l7.78-7.78 2.81-2.81c.8-.78.8-2.07 0-2.86zM5.41 20L4 18.59l7.72-7.72 1.47 1.35L5.41 20z\"/>\n",
              "  </svg>\n",
              "      </button>\n",
              "      \n",
              "  <style>\n",
              "    .colab-df-container {\n",
              "      display:flex;\n",
              "      flex-wrap:wrap;\n",
              "      gap: 12px;\n",
              "    }\n",
              "\n",
              "    .colab-df-convert {\n",
              "      background-color: #E8F0FE;\n",
              "      border: none;\n",
              "      border-radius: 50%;\n",
              "      cursor: pointer;\n",
              "      display: none;\n",
              "      fill: #1967D2;\n",
              "      height: 32px;\n",
              "      padding: 0 0 0 0;\n",
              "      width: 32px;\n",
              "    }\n",
              "\n",
              "    .colab-df-convert:hover {\n",
              "      background-color: #E2EBFA;\n",
              "      box-shadow: 0px 1px 2px rgba(60, 64, 67, 0.3), 0px 1px 3px 1px rgba(60, 64, 67, 0.15);\n",
              "      fill: #174EA6;\n",
              "    }\n",
              "\n",
              "    [theme=dark] .colab-df-convert {\n",
              "      background-color: #3B4455;\n",
              "      fill: #D2E3FC;\n",
              "    }\n",
              "\n",
              "    [theme=dark] .colab-df-convert:hover {\n",
              "      background-color: #434B5C;\n",
              "      box-shadow: 0px 1px 3px 1px rgba(0, 0, 0, 0.15);\n",
              "      filter: drop-shadow(0px 1px 2px rgba(0, 0, 0, 0.3));\n",
              "      fill: #FFFFFF;\n",
              "    }\n",
              "  </style>\n",
              "\n",
              "      <script>\n",
              "        const buttonEl =\n",
              "          document.querySelector('#df-cce649ab-bfe4-4304-9f89-cf9175f3f500 button.colab-df-convert');\n",
              "        buttonEl.style.display =\n",
              "          google.colab.kernel.accessAllowed ? 'block' : 'none';\n",
              "\n",
              "        async function convertToInteractive(key) {\n",
              "          const element = document.querySelector('#df-cce649ab-bfe4-4304-9f89-cf9175f3f500');\n",
              "          const dataTable =\n",
              "            await google.colab.kernel.invokeFunction('convertToInteractive',\n",
              "                                                     [key], {});\n",
              "          if (!dataTable) return;\n",
              "\n",
              "          const docLinkHtml = 'Like what you see? Visit the ' +\n",
              "            '<a target=\"_blank\" href=https://colab.research.google.com/notebooks/data_table.ipynb>data table notebook</a>'\n",
              "            + ' to learn more about interactive tables.';\n",
              "          element.innerHTML = '';\n",
              "          dataTable['output_type'] = 'display_data';\n",
              "          await google.colab.output.renderOutput(dataTable, element);\n",
              "          const docLink = document.createElement('div');\n",
              "          docLink.innerHTML = docLinkHtml;\n",
              "          element.appendChild(docLink);\n",
              "        }\n",
              "      </script>\n",
              "    </div>\n",
              "  </div>\n",
              "  "
            ]
          },
          "metadata": {},
          "execution_count": 229
        }
      ]
    },
    {
      "cell_type": "code",
      "source": [
        "df_high = data_df.sort_values(by = ['test_per_case'], ascending = False).head(20)\n",
        "df_high['death_ratio'] = df_high.deaths/df_high.population\n",
        "df_high"
      ],
      "metadata": {
        "colab": {
          "base_uri": "https://localhost:8080/",
          "height": 707
        },
        "id": "Ex5mIpYQJ2jX",
        "outputId": "4b4bc03f-03ee-4847-ded3-1155f08b335a"
      },
      "execution_count": 230,
      "outputs": [
        {
          "output_type": "execute_result",
          "data": {
            "text/plain": [
              "                     cases  deaths      tests  population  test_per_case  \\\n",
              "country                                                                    \n",
              "China               503302    5272  160000000  1448471400     317.900585   \n",
              "UAE                1051336    2348  199104417    10081785     189.382288   \n",
              "Turks and Caicos      6551      38     611527       39741      93.348649   \n",
              "Oman                399449    4628   25000000     5323993      62.586213   \n",
              "Bermuda              18791     159    1026742       61939      54.640094   \n",
              "Saudi Arabia        829041    9606   45121063    35844909      54.425611   \n",
              "Rwanda              133170    1468    5959042    13600464      44.747631   \n",
              "Denmark            3174758    8237  129185732     5834950      40.691521   \n",
              "Bhutan               62611      21    2303734      787941      36.794397   \n",
              "Austria            5871234   21825  211273524     9066710      35.984518   \n",
              "Spain             13755956  119186  471036328    46719142      34.242355   \n",
              "Sierra Leone          7760     126     259958     8306436      33.499742   \n",
              "Gabon                48981     306    1621909     2331533      33.113023   \n",
              "Tonga                16801      13     535009      107749      31.843878   \n",
              "Yemen                11945    2159     329592    31154867      27.592465   \n",
              "Hong Kong          2882553   13445   76127725     7604299      26.409827   \n",
              "Gibraltar            20420     111     534283       33704      26.164691   \n",
              "Niger                 9931     312     254538    26083660      25.630651   \n",
              "Chad                  7675     194     191341    17413580      24.930423   \n",
              "Mali                 32946     743     794233    21473764      24.107115   \n",
              "\n",
              "                  death_ratio  \n",
              "country                        \n",
              "China                0.000004  \n",
              "UAE                  0.000233  \n",
              "Turks and Caicos     0.000956  \n",
              "Oman                 0.000869  \n",
              "Bermuda              0.002567  \n",
              "Saudi Arabia         0.000268  \n",
              "Rwanda               0.000108  \n",
              "Denmark              0.001412  \n",
              "Bhutan               0.000027  \n",
              "Austria              0.002407  \n",
              "Spain                0.002551  \n",
              "Sierra Leone         0.000015  \n",
              "Gabon                0.000131  \n",
              "Tonga                0.000121  \n",
              "Yemen                0.000069  \n",
              "Hong Kong            0.001768  \n",
              "Gibraltar            0.003293  \n",
              "Niger                0.000012  \n",
              "Chad                 0.000011  \n",
              "Mali                 0.000035  "
            ],
            "text/html": [
              "\n",
              "  <div id=\"df-3e444124-b178-42f2-bddc-1efe9b3f04fe\">\n",
              "    <div class=\"colab-df-container\">\n",
              "      <div>\n",
              "<style scoped>\n",
              "    .dataframe tbody tr th:only-of-type {\n",
              "        vertical-align: middle;\n",
              "    }\n",
              "\n",
              "    .dataframe tbody tr th {\n",
              "        vertical-align: top;\n",
              "    }\n",
              "\n",
              "    .dataframe thead th {\n",
              "        text-align: right;\n",
              "    }\n",
              "</style>\n",
              "<table border=\"1\" class=\"dataframe\">\n",
              "  <thead>\n",
              "    <tr style=\"text-align: right;\">\n",
              "      <th></th>\n",
              "      <th>cases</th>\n",
              "      <th>deaths</th>\n",
              "      <th>tests</th>\n",
              "      <th>population</th>\n",
              "      <th>test_per_case</th>\n",
              "      <th>death_ratio</th>\n",
              "    </tr>\n",
              "    <tr>\n",
              "      <th>country</th>\n",
              "      <th></th>\n",
              "      <th></th>\n",
              "      <th></th>\n",
              "      <th></th>\n",
              "      <th></th>\n",
              "      <th></th>\n",
              "    </tr>\n",
              "  </thead>\n",
              "  <tbody>\n",
              "    <tr>\n",
              "      <th>China</th>\n",
              "      <td>503302</td>\n",
              "      <td>5272</td>\n",
              "      <td>160000000</td>\n",
              "      <td>1448471400</td>\n",
              "      <td>317.900585</td>\n",
              "      <td>0.000004</td>\n",
              "    </tr>\n",
              "    <tr>\n",
              "      <th>UAE</th>\n",
              "      <td>1051336</td>\n",
              "      <td>2348</td>\n",
              "      <td>199104417</td>\n",
              "      <td>10081785</td>\n",
              "      <td>189.382288</td>\n",
              "      <td>0.000233</td>\n",
              "    </tr>\n",
              "    <tr>\n",
              "      <th>Turks and Caicos</th>\n",
              "      <td>6551</td>\n",
              "      <td>38</td>\n",
              "      <td>611527</td>\n",
              "      <td>39741</td>\n",
              "      <td>93.348649</td>\n",
              "      <td>0.000956</td>\n",
              "    </tr>\n",
              "    <tr>\n",
              "      <th>Oman</th>\n",
              "      <td>399449</td>\n",
              "      <td>4628</td>\n",
              "      <td>25000000</td>\n",
              "      <td>5323993</td>\n",
              "      <td>62.586213</td>\n",
              "      <td>0.000869</td>\n",
              "    </tr>\n",
              "    <tr>\n",
              "      <th>Bermuda</th>\n",
              "      <td>18791</td>\n",
              "      <td>159</td>\n",
              "      <td>1026742</td>\n",
              "      <td>61939</td>\n",
              "      <td>54.640094</td>\n",
              "      <td>0.002567</td>\n",
              "    </tr>\n",
              "    <tr>\n",
              "      <th>Saudi Arabia</th>\n",
              "      <td>829041</td>\n",
              "      <td>9606</td>\n",
              "      <td>45121063</td>\n",
              "      <td>35844909</td>\n",
              "      <td>54.425611</td>\n",
              "      <td>0.000268</td>\n",
              "    </tr>\n",
              "    <tr>\n",
              "      <th>Rwanda</th>\n",
              "      <td>133170</td>\n",
              "      <td>1468</td>\n",
              "      <td>5959042</td>\n",
              "      <td>13600464</td>\n",
              "      <td>44.747631</td>\n",
              "      <td>0.000108</td>\n",
              "    </tr>\n",
              "    <tr>\n",
              "      <th>Denmark</th>\n",
              "      <td>3174758</td>\n",
              "      <td>8237</td>\n",
              "      <td>129185732</td>\n",
              "      <td>5834950</td>\n",
              "      <td>40.691521</td>\n",
              "      <td>0.001412</td>\n",
              "    </tr>\n",
              "    <tr>\n",
              "      <th>Bhutan</th>\n",
              "      <td>62611</td>\n",
              "      <td>21</td>\n",
              "      <td>2303734</td>\n",
              "      <td>787941</td>\n",
              "      <td>36.794397</td>\n",
              "      <td>0.000027</td>\n",
              "    </tr>\n",
              "    <tr>\n",
              "      <th>Austria</th>\n",
              "      <td>5871234</td>\n",
              "      <td>21825</td>\n",
              "      <td>211273524</td>\n",
              "      <td>9066710</td>\n",
              "      <td>35.984518</td>\n",
              "      <td>0.002407</td>\n",
              "    </tr>\n",
              "    <tr>\n",
              "      <th>Spain</th>\n",
              "      <td>13755956</td>\n",
              "      <td>119186</td>\n",
              "      <td>471036328</td>\n",
              "      <td>46719142</td>\n",
              "      <td>34.242355</td>\n",
              "      <td>0.002551</td>\n",
              "    </tr>\n",
              "    <tr>\n",
              "      <th>Sierra Leone</th>\n",
              "      <td>7760</td>\n",
              "      <td>126</td>\n",
              "      <td>259958</td>\n",
              "      <td>8306436</td>\n",
              "      <td>33.499742</td>\n",
              "      <td>0.000015</td>\n",
              "    </tr>\n",
              "    <tr>\n",
              "      <th>Gabon</th>\n",
              "      <td>48981</td>\n",
              "      <td>306</td>\n",
              "      <td>1621909</td>\n",
              "      <td>2331533</td>\n",
              "      <td>33.113023</td>\n",
              "      <td>0.000131</td>\n",
              "    </tr>\n",
              "    <tr>\n",
              "      <th>Tonga</th>\n",
              "      <td>16801</td>\n",
              "      <td>13</td>\n",
              "      <td>535009</td>\n",
              "      <td>107749</td>\n",
              "      <td>31.843878</td>\n",
              "      <td>0.000121</td>\n",
              "    </tr>\n",
              "    <tr>\n",
              "      <th>Yemen</th>\n",
              "      <td>11945</td>\n",
              "      <td>2159</td>\n",
              "      <td>329592</td>\n",
              "      <td>31154867</td>\n",
              "      <td>27.592465</td>\n",
              "      <td>0.000069</td>\n",
              "    </tr>\n",
              "    <tr>\n",
              "      <th>Hong Kong</th>\n",
              "      <td>2882553</td>\n",
              "      <td>13445</td>\n",
              "      <td>76127725</td>\n",
              "      <td>7604299</td>\n",
              "      <td>26.409827</td>\n",
              "      <td>0.001768</td>\n",
              "    </tr>\n",
              "    <tr>\n",
              "      <th>Gibraltar</th>\n",
              "      <td>20420</td>\n",
              "      <td>111</td>\n",
              "      <td>534283</td>\n",
              "      <td>33704</td>\n",
              "      <td>26.164691</td>\n",
              "      <td>0.003293</td>\n",
              "    </tr>\n",
              "    <tr>\n",
              "      <th>Niger</th>\n",
              "      <td>9931</td>\n",
              "      <td>312</td>\n",
              "      <td>254538</td>\n",
              "      <td>26083660</td>\n",
              "      <td>25.630651</td>\n",
              "      <td>0.000012</td>\n",
              "    </tr>\n",
              "    <tr>\n",
              "      <th>Chad</th>\n",
              "      <td>7675</td>\n",
              "      <td>194</td>\n",
              "      <td>191341</td>\n",
              "      <td>17413580</td>\n",
              "      <td>24.930423</td>\n",
              "      <td>0.000011</td>\n",
              "    </tr>\n",
              "    <tr>\n",
              "      <th>Mali</th>\n",
              "      <td>32946</td>\n",
              "      <td>743</td>\n",
              "      <td>794233</td>\n",
              "      <td>21473764</td>\n",
              "      <td>24.107115</td>\n",
              "      <td>0.000035</td>\n",
              "    </tr>\n",
              "  </tbody>\n",
              "</table>\n",
              "</div>\n",
              "      <button class=\"colab-df-convert\" onclick=\"convertToInteractive('df-3e444124-b178-42f2-bddc-1efe9b3f04fe')\"\n",
              "              title=\"Convert this dataframe to an interactive table.\"\n",
              "              style=\"display:none;\">\n",
              "        \n",
              "  <svg xmlns=\"http://www.w3.org/2000/svg\" height=\"24px\"viewBox=\"0 0 24 24\"\n",
              "       width=\"24px\">\n",
              "    <path d=\"M0 0h24v24H0V0z\" fill=\"none\"/>\n",
              "    <path d=\"M18.56 5.44l.94 2.06.94-2.06 2.06-.94-2.06-.94-.94-2.06-.94 2.06-2.06.94zm-11 1L8.5 8.5l.94-2.06 2.06-.94-2.06-.94L8.5 2.5l-.94 2.06-2.06.94zm10 10l.94 2.06.94-2.06 2.06-.94-2.06-.94-.94-2.06-.94 2.06-2.06.94z\"/><path d=\"M17.41 7.96l-1.37-1.37c-.4-.4-.92-.59-1.43-.59-.52 0-1.04.2-1.43.59L10.3 9.45l-7.72 7.72c-.78.78-.78 2.05 0 2.83L4 21.41c.39.39.9.59 1.41.59.51 0 1.02-.2 1.41-.59l7.78-7.78 2.81-2.81c.8-.78.8-2.07 0-2.86zM5.41 20L4 18.59l7.72-7.72 1.47 1.35L5.41 20z\"/>\n",
              "  </svg>\n",
              "      </button>\n",
              "      \n",
              "  <style>\n",
              "    .colab-df-container {\n",
              "      display:flex;\n",
              "      flex-wrap:wrap;\n",
              "      gap: 12px;\n",
              "    }\n",
              "\n",
              "    .colab-df-convert {\n",
              "      background-color: #E8F0FE;\n",
              "      border: none;\n",
              "      border-radius: 50%;\n",
              "      cursor: pointer;\n",
              "      display: none;\n",
              "      fill: #1967D2;\n",
              "      height: 32px;\n",
              "      padding: 0 0 0 0;\n",
              "      width: 32px;\n",
              "    }\n",
              "\n",
              "    .colab-df-convert:hover {\n",
              "      background-color: #E2EBFA;\n",
              "      box-shadow: 0px 1px 2px rgba(60, 64, 67, 0.3), 0px 1px 3px 1px rgba(60, 64, 67, 0.15);\n",
              "      fill: #174EA6;\n",
              "    }\n",
              "\n",
              "    [theme=dark] .colab-df-convert {\n",
              "      background-color: #3B4455;\n",
              "      fill: #D2E3FC;\n",
              "    }\n",
              "\n",
              "    [theme=dark] .colab-df-convert:hover {\n",
              "      background-color: #434B5C;\n",
              "      box-shadow: 0px 1px 3px 1px rgba(0, 0, 0, 0.15);\n",
              "      filter: drop-shadow(0px 1px 2px rgba(0, 0, 0, 0.3));\n",
              "      fill: #FFFFFF;\n",
              "    }\n",
              "  </style>\n",
              "\n",
              "      <script>\n",
              "        const buttonEl =\n",
              "          document.querySelector('#df-3e444124-b178-42f2-bddc-1efe9b3f04fe button.colab-df-convert');\n",
              "        buttonEl.style.display =\n",
              "          google.colab.kernel.accessAllowed ? 'block' : 'none';\n",
              "\n",
              "        async function convertToInteractive(key) {\n",
              "          const element = document.querySelector('#df-3e444124-b178-42f2-bddc-1efe9b3f04fe');\n",
              "          const dataTable =\n",
              "            await google.colab.kernel.invokeFunction('convertToInteractive',\n",
              "                                                     [key], {});\n",
              "          if (!dataTable) return;\n",
              "\n",
              "          const docLinkHtml = 'Like what you see? Visit the ' +\n",
              "            '<a target=\"_blank\" href=https://colab.research.google.com/notebooks/data_table.ipynb>data table notebook</a>'\n",
              "            + ' to learn more about interactive tables.';\n",
              "          element.innerHTML = '';\n",
              "          dataTable['output_type'] = 'display_data';\n",
              "          await google.colab.output.renderOutput(dataTable, element);\n",
              "          const docLink = document.createElement('div');\n",
              "          docLink.innerHTML = docLinkHtml;\n",
              "          element.appendChild(docLink);\n",
              "        }\n",
              "      </script>\n",
              "    </div>\n",
              "  </div>\n",
              "  "
            ]
          },
          "metadata": {},
          "execution_count": 230
        }
      ]
    },
    {
      "cell_type": "code",
      "source": [
        "import matplotlib.pyplot as plt\n",
        "import seaborn as sns\n",
        "\n",
        "%matplotlib inline"
      ],
      "metadata": {
        "id": "8vogmXGHKaDn"
      },
      "execution_count": 231,
      "outputs": []
    },
    {
      "cell_type": "code",
      "source": [
        "sns.scatterplot(x = np.arange(20), y = df_low.death_ratio, marker = 's')\n",
        "sns.scatterplot(x = np.arange(20), y = df_high.death_ratio)\n",
        "plt.legend(['low','high']);"
      ],
      "metadata": {
        "colab": {
          "base_uri": "https://localhost:8080/",
          "height": 265
        },
        "id": "vzPsxCwKKgXw",
        "outputId": "fa7a0fc6-b02a-4aa8-cac7-f14b65731f1a"
      },
      "execution_count": 239,
      "outputs": [
        {
          "output_type": "display_data",
          "data": {
            "text/plain": [
              "<Figure size 432x288 with 1 Axes>"
            ],
            "image/png": "[encoded data removed]"
          },
          "metadata": {
            "needs_background": "light"
          }
        }
      ]
    },
    {
      "cell_type": "code",
      "source": [
        "df_high['death_per_case'] = df_high['deaths']/df_high['cases']\n",
        "df_low['death_per_case'] = df_low['deaths']/df_low['cases']"
      ],
      "metadata": {
        "id": "oUIJE05LKwZP"
      },
      "execution_count": 233,
      "outputs": []
    },
    {
      "cell_type": "code",
      "source": [
        "sns.scatterplot(x = np.arange(20), y = df_low.death_per_case, marker = 's')\n",
        "sns.scatterplot(x = np.arange(20), y = df_high.death_per_case)\n",
        "plt.legend(['low','high'])"
      ],
      "metadata": {
        "colab": {
          "base_uri": "https://localhost:8080/",
          "height": 282
        },
        "id": "ijuCcd9iLaWv",
        "outputId": "df04ea36-3bc5-41d2-f8be-44d9ad2ce87c"
      },
      "execution_count": 234,
      "outputs": [
        {
          "output_type": "execute_result",
          "data": {
            "text/plain": [
              "<matplotlib.legend.Legend at 0x7fa9a90c4220>"
            ]
          },
          "metadata": {},
          "execution_count": 234
        },
        {
          "output_type": "display_data",
          "data": {
            "text/plain": [
              "<Figure size 432x288 with 1 Axes>"
            ],
            "image/png": "[encoded data removed]"
          },
          "metadata": {
            "needs_background": "light"
          }
        }
      ]
    },
    {
      "cell_type": "code",
      "source": [
        "from sklearn.preprocessing import StandardScaler\n",
        "scaler = StandardScaler()"
      ],
      "metadata": {
        "id": "glICtp6PMFlr"
      },
      "execution_count": 235,
      "outputs": []
    },
    {
      "cell_type": "code",
      "source": [
        "df = scaler.fit_transform(data_df)"
      ],
      "metadata": {
        "id": "pRp06oHyLenv"
      },
      "execution_count": 236,
      "outputs": []
    },
    {
      "cell_type": "code",
      "source": [
        "sns.regplot(x = df[:,1], y = df[:,4])"
      ],
      "metadata": {
        "colab": {
          "base_uri": "https://localhost:8080/",
          "height": 285
        },
        "id": "vseaNp8KMVkL",
        "outputId": "01f2f023-b17f-4f74-e873-9c1531c20c72"
      },
      "execution_count": 237,
      "outputs": [
        {
          "output_type": "execute_result",
          "data": {
            "text/plain": [
              "<matplotlib.axes._subplots.AxesSubplot at 0x7fa9a90fc250>"
            ]
          },
          "metadata": {},
          "execution_count": 237
        },
        {
          "output_type": "display_data",
          "data": {
            "text/plain": [
              "<Figure size 432x288 with 1 Axes>"
            ],
            "image/png": "[encoded data removed]"
          },
          "metadata": {
            "needs_background": "light"
          }
        }
      ]
    },
    {
      "cell_type": "markdown",
      "source": [
        "**No matter how I look at it, there doesn't seem to be much effect of increasing the tests done per a case in preventing the deaths.**"
      ],
      "metadata": {
        "id": "A4-wEbdHMmw-"
      }
    }
  ]
}