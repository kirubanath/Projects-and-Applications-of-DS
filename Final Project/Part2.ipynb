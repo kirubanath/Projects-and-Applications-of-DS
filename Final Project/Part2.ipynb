{
  "nbformat": 4,
  "nbformat_minor": 0,
  "metadata": {
    "colab": {
      "provenance": []
    },
    "kernelspec": {
      "name": "python3",
      "display_name": "Python 3"
    },
    "language_info": {
      "name": "python"
    }
  },
  "cells": [
    {
      "cell_type": "markdown",
      "source": [
        "# Part 2"
      ],
      "metadata": {
        "id": "ZqCQzqmrXK1U"
      }
    },
    {
      "cell_type": "markdown",
      "source": [
        "## Importing necessary libraries"
      ],
      "metadata": {
        "id": "tCO86IubXQ19"
      }
    },
    {
      "cell_type": "code",
      "source": [
        "import pandas as pd\n",
        "import numpy as np\n",
        "import matplotlib.pyplot as plt\n",
        "import seaborn as sns\n",
        "import matplotlib.ticker as ticker\n",
        "\n",
        "%matplotlib inline"
      ],
      "metadata": {
        "id": "VdFrpVDYXOQV"
      },
      "execution_count": 39,
      "outputs": []
    },
    {
      "cell_type": "code",
      "source": [
        "data = pd.read_csv('https://raw.githubusercontent.com/owid/covid-19-data/master/public/data/vaccinations/vaccinations.csv')"
      ],
      "metadata": {
        "id": "XRvjttNeXbIn"
      },
      "execution_count": 3,
      "outputs": []
    },
    {
      "cell_type": "code",
      "source": [
        "data.head()"
      ],
      "metadata": {
        "colab": {
          "base_uri": "https://localhost:8080/",
          "height": 357
        },
        "id": "l3FiHDcMXjUj",
        "outputId": "78dbd20a-8bf2-4b34-ea51-d128c956ddd2"
      },
      "execution_count": 4,
      "outputs": [
        {
          "output_type": "execute_result",
          "data": {
            "text/plain": [
              "      location iso_code        date  total_vaccinations  people_vaccinated  \\\n",
              "0  Afghanistan      AFG  2021-02-22                 0.0                0.0   \n",
              "1  Afghanistan      AFG  2021-02-23                 NaN                NaN   \n",
              "2  Afghanistan      AFG  2021-02-24                 NaN                NaN   \n",
              "3  Afghanistan      AFG  2021-02-25                 NaN                NaN   \n",
              "4  Afghanistan      AFG  2021-02-26                 NaN                NaN   \n",
              "\n",
              "   people_fully_vaccinated  total_boosters  daily_vaccinations_raw  \\\n",
              "0                      NaN             NaN                     NaN   \n",
              "1                      NaN             NaN                     NaN   \n",
              "2                      NaN             NaN                     NaN   \n",
              "3                      NaN             NaN                     NaN   \n",
              "4                      NaN             NaN                     NaN   \n",
              "\n",
              "   daily_vaccinations  total_vaccinations_per_hundred  \\\n",
              "0                 NaN                             0.0   \n",
              "1              1367.0                             NaN   \n",
              "2              1367.0                             NaN   \n",
              "3              1367.0                             NaN   \n",
              "4              1367.0                             NaN   \n",
              "\n",
              "   people_vaccinated_per_hundred  people_fully_vaccinated_per_hundred  \\\n",
              "0                            0.0                                  NaN   \n",
              "1                            NaN                                  NaN   \n",
              "2                            NaN                                  NaN   \n",
              "3                            NaN                                  NaN   \n",
              "4                            NaN                                  NaN   \n",
              "\n",
              "   total_boosters_per_hundred  daily_vaccinations_per_million  \\\n",
              "0                         NaN                             NaN   \n",
              "1                         NaN                            33.0   \n",
              "2                         NaN                            33.0   \n",
              "3                         NaN                            33.0   \n",
              "4                         NaN                            33.0   \n",
              "\n",
              "   daily_people_vaccinated  daily_people_vaccinated_per_hundred  \n",
              "0                      NaN                                  NaN  \n",
              "1                   1367.0                                0.003  \n",
              "2                   1367.0                                0.003  \n",
              "3                   1367.0                                0.003  \n",
              "4                   1367.0                                0.003  "
            ],
            "text/html": [
              "\n",
              "  <div id=\"df-99c26c66-103e-49d6-a261-d678781fd786\">\n",
              "    <div class=\"colab-df-container\">\n",
              "      <div>\n",
              "<style scoped>\n",
              "    .dataframe tbody tr th:only-of-type {\n",
              "        vertical-align: middle;\n",
              "    }\n",
              "\n",
              "    .dataframe tbody tr th {\n",
              "        vertical-align: top;\n",
              "    }\n",
              "\n",
              "    .dataframe thead th {\n",
              "        text-align: right;\n",
              "    }\n",
              "</style>\n",
              "<table border=\"1\" class=\"dataframe\">\n",
              "  <thead>\n",
              "    <tr style=\"text-align: right;\">\n",
              "      <th></th>\n",
              "      <th>location</th>\n",
              "      <th>iso_code</th>\n",
              "      <th>date</th>\n",
              "      <th>total_vaccinations</th>\n",
              "      <th>people_vaccinated</th>\n",
              "      <th>people_fully_vaccinated</th>\n",
              "      <th>total_boosters</th>\n",
              "      <th>daily_vaccinations_raw</th>\n",
              "      <th>daily_vaccinations</th>\n",
              "      <th>total_vaccinations_per_hundred</th>\n",
              "      <th>people_vaccinated_per_hundred</th>\n",
              "      <th>people_fully_vaccinated_per_hundred</th>\n",
              "      <th>total_boosters_per_hundred</th>\n",
              "      <th>daily_vaccinations_per_million</th>\n",
              "      <th>daily_people_vaccinated</th>\n",
              "      <th>daily_people_vaccinated_per_hundred</th>\n",
              "    </tr>\n",
              "  </thead>\n",
              "  <tbody>\n",
              "    <tr>\n",
              "      <th>0</th>\n",
              "      <td>Afghanistan</td>\n",
              "      <td>AFG</td>\n",
              "      <td>2021-02-22</td>\n",
              "      <td>0.0</td>\n",
              "      <td>0.0</td>\n",
              "      <td>NaN</td>\n",
              "      <td>NaN</td>\n",
              "      <td>NaN</td>\n",
              "      <td>NaN</td>\n",
              "      <td>0.0</td>\n",
              "      <td>0.0</td>\n",
              "      <td>NaN</td>\n",
              "      <td>NaN</td>\n",
              "      <td>NaN</td>\n",
              "      <td>NaN</td>\n",
              "      <td>NaN</td>\n",
              "    </tr>\n",
              "    <tr>\n",
              "      <th>1</th>\n",
              "      <td>Afghanistan</td>\n",
              "      <td>AFG</td>\n",
              "      <td>2021-02-23</td>\n",
              "      <td>NaN</td>\n",
              "      <td>NaN</td>\n",
              "      <td>NaN</td>\n",
              "      <td>NaN</td>\n",
              "      <td>NaN</td>\n",
              "      <td>1367.0</td>\n",
              "      <td>NaN</td>\n",
              "      <td>NaN</td>\n",
              "      <td>NaN</td>\n",
              "      <td>NaN</td>\n",
              "      <td>33.0</td>\n",
              "      <td>1367.0</td>\n",
              "      <td>0.003</td>\n",
              "    </tr>\n",
              "    <tr>\n",
              "      <th>2</th>\n",
              "      <td>Afghanistan</td>\n",
              "      <td>AFG</td>\n",
              "      <td>2021-02-24</td>\n",
              "      <td>NaN</td>\n",
              "      <td>NaN</td>\n",
              "      <td>NaN</td>\n",
              "      <td>NaN</td>\n",
              "      <td>NaN</td>\n",
              "      <td>1367.0</td>\n",
              "      <td>NaN</td>\n",
              "      <td>NaN</td>\n",
              "      <td>NaN</td>\n",
              "      <td>NaN</td>\n",
              "      <td>33.0</td>\n",
              "      <td>1367.0</td>\n",
              "      <td>0.003</td>\n",
              "    </tr>\n",
              "    <tr>\n",
              "      <th>3</th>\n",
              "      <td>Afghanistan</td>\n",
              "      <td>AFG</td>\n",
              "      <td>2021-02-25</td>\n",
              "      <td>NaN</td>\n",
              "      <td>NaN</td>\n",
              "      <td>NaN</td>\n",
              "      <td>NaN</td>\n",
              "      <td>NaN</td>\n",
              "      <td>1367.0</td>\n",
              "      <td>NaN</td>\n",
              "      <td>NaN</td>\n",
              "      <td>NaN</td>\n",
              "      <td>NaN</td>\n",
              "      <td>33.0</td>\n",
              "      <td>1367.0</td>\n",
              "      <td>0.003</td>\n",
              "    </tr>\n",
              "    <tr>\n",
              "      <th>4</th>\n",
              "      <td>Afghanistan</td>\n",
              "      <td>AFG</td>\n",
              "      <td>2021-02-26</td>\n",
              "      <td>NaN</td>\n",
              "      <td>NaN</td>\n",
              "      <td>NaN</td>\n",
              "      <td>NaN</td>\n",
              "      <td>NaN</td>\n",
              "      <td>1367.0</td>\n",
              "      <td>NaN</td>\n",
              "      <td>NaN</td>\n",
              "      <td>NaN</td>\n",
              "      <td>NaN</td>\n",
              "      <td>33.0</td>\n",
              "      <td>1367.0</td>\n",
              "      <td>0.003</td>\n",
              "    </tr>\n",
              "  </tbody>\n",
              "</table>\n",
              "</div>\n",
              "      <button class=\"colab-df-convert\" onclick=\"convertToInteractive('df-99c26c66-103e-49d6-a261-d678781fd786')\"\n",
              "              title=\"Convert this dataframe to an interactive table.\"\n",
              "              style=\"display:none;\">\n",
              "        \n",
              "  <svg xmlns=\"http://www.w3.org/2000/svg\" height=\"24px\"viewBox=\"0 0 24 24\"\n",
              "       width=\"24px\">\n",
              "    <path d=\"M0 0h24v24H0V0z\" fill=\"none\"/>\n",
              "    <path d=\"M18.56 5.44l.94 2.06.94-2.06 2.06-.94-2.06-.94-.94-2.06-.94 2.06-2.06.94zm-11 1L8.5 8.5l.94-2.06 2.06-.94-2.06-.94L8.5 2.5l-.94 2.06-2.06.94zm10 10l.94 2.06.94-2.06 2.06-.94-2.06-.94-.94-2.06-.94 2.06-2.06.94z\"/><path d=\"M17.41 7.96l-1.37-1.37c-.4-.4-.92-.59-1.43-.59-.52 0-1.04.2-1.43.59L10.3 9.45l-7.72 7.72c-.78.78-.78 2.05 0 2.83L4 21.41c.39.39.9.59 1.41.59.51 0 1.02-.2 1.41-.59l7.78-7.78 2.81-2.81c.8-.78.8-2.07 0-2.86zM5.41 20L4 18.59l7.72-7.72 1.47 1.35L5.41 20z\"/>\n",
              "  </svg>\n",
              "      </button>\n",
              "      \n",
              "  <style>\n",
              "    .colab-df-container {\n",
              "      display:flex;\n",
              "      flex-wrap:wrap;\n",
              "      gap: 12px;\n",
              "    }\n",
              "\n",
              "    .colab-df-convert {\n",
              "      background-color: #E8F0FE;\n",
              "      border: none;\n",
              "      border-radius: 50%;\n",
              "      cursor: pointer;\n",
              "      display: none;\n",
              "      fill: #1967D2;\n",
              "      height: 32px;\n",
              "      padding: 0 0 0 0;\n",
              "      width: 32px;\n",
              "    }\n",
              "\n",
              "    .colab-df-convert:hover {\n",
              "      background-color: #E2EBFA;\n",
              "      box-shadow: 0px 1px 2px rgba(60, 64, 67, 0.3), 0px 1px 3px 1px rgba(60, 64, 67, 0.15);\n",
              "      fill: #174EA6;\n",
              "    }\n",
              "\n",
              "    [theme=dark] .colab-df-convert {\n",
              "      background-color: #3B4455;\n",
              "      fill: #D2E3FC;\n",
              "    }\n",
              "\n",
              "    [theme=dark] .colab-df-convert:hover {\n",
              "      background-color: #434B5C;\n",
              "      box-shadow: 0px 1px 3px 1px rgba(0, 0, 0, 0.15);\n",
              "      filter: drop-shadow(0px 1px 2px rgba(0, 0, 0, 0.3));\n",
              "      fill: #FFFFFF;\n",
              "    }\n",
              "  </style>\n",
              "\n",
              "      <script>\n",
              "        const buttonEl =\n",
              "          document.querySelector('#df-99c26c66-103e-49d6-a261-d678781fd786 button.colab-df-convert');\n",
              "        buttonEl.style.display =\n",
              "          google.colab.kernel.accessAllowed ? 'block' : 'none';\n",
              "\n",
              "        async function convertToInteractive(key) {\n",
              "          const element = document.querySelector('#df-99c26c66-103e-49d6-a261-d678781fd786');\n",
              "          const dataTable =\n",
              "            await google.colab.kernel.invokeFunction('convertToInteractive',\n",
              "                                                     [key], {});\n",
              "          if (!dataTable) return;\n",
              "\n",
              "          const docLinkHtml = 'Like what you see? Visit the ' +\n",
              "            '<a target=\"_blank\" href=https://colab.research.google.com/notebooks/data_table.ipynb>data table notebook</a>'\n",
              "            + ' to learn more about interactive tables.';\n",
              "          element.innerHTML = '';\n",
              "          dataTable['output_type'] = 'display_data';\n",
              "          await google.colab.output.renderOutput(dataTable, element);\n",
              "          const docLink = document.createElement('div');\n",
              "          docLink.innerHTML = docLinkHtml;\n",
              "          element.appendChild(docLink);\n",
              "        }\n",
              "      </script>\n",
              "    </div>\n",
              "  </div>\n",
              "  "
            ]
          },
          "metadata": {},
          "execution_count": 4
        }
      ]
    },
    {
      "cell_type": "code",
      "source": [
        "data.shape"
      ],
      "metadata": {
        "colab": {
          "base_uri": "https://localhost:8080/"
        },
        "id": "oxoExat-XuDb",
        "outputId": "e977cfdd-3a1c-47f2-b2db-bdcd933f9444"
      },
      "execution_count": 5,
      "outputs": [
        {
          "output_type": "execute_result",
          "data": {
            "text/plain": [
              "(156518, 16)"
            ]
          },
          "metadata": {},
          "execution_count": 5
        }
      ]
    },
    {
      "cell_type": "code",
      "source": [
        "data.info()"
      ],
      "metadata": {
        "colab": {
          "base_uri": "https://localhost:8080/"
        },
        "id": "M_UcjjywXy0V",
        "outputId": "ad1e8e9d-d2bf-4053-deff-9e6d48940300"
      },
      "execution_count": 6,
      "outputs": [
        {
          "output_type": "stream",
          "name": "stdout",
          "text": [
            "<class 'pandas.core.frame.DataFrame'>\n",
            "RangeIndex: 156518 entries, 0 to 156517\n",
            "Data columns (total 16 columns):\n",
            " #   Column                               Non-Null Count   Dtype  \n",
            "---  ------                               --------------   -----  \n",
            " 0   location                             156518 non-null  object \n",
            " 1   iso_code                             156518 non-null  object \n",
            " 2   date                                 156518 non-null  object \n",
            " 3   total_vaccinations                   72497 non-null   float64\n",
            " 4   people_vaccinated                    69398 non-null   float64\n",
            " 5   people_fully_vaccinated              66744 non-null   float64\n",
            " 6   total_boosters                       41255 non-null   float64\n",
            " 7   daily_vaccinations_raw               60144 non-null   float64\n",
            " 8   daily_vaccinations                   155416 non-null  float64\n",
            " 9   total_vaccinations_per_hundred       72497 non-null   float64\n",
            " 10  people_vaccinated_per_hundred        69398 non-null   float64\n",
            " 11  people_fully_vaccinated_per_hundred  66744 non-null   float64\n",
            " 12  total_boosters_per_hundred           41255 non-null   float64\n",
            " 13  daily_vaccinations_per_million       155416 non-null  float64\n",
            " 14  daily_people_vaccinated              155335 non-null  float64\n",
            " 15  daily_people_vaccinated_per_hundred  155335 non-null  float64\n",
            "dtypes: float64(13), object(3)\n",
            "memory usage: 19.1+ MB\n"
          ]
        }
      ]
    },
    {
      "cell_type": "markdown",
      "source": [
        "Converting the data to datetime and name and iso code to str"
      ],
      "metadata": {
        "id": "bG3v74IqX5ol"
      }
    },
    {
      "cell_type": "code",
      "source": [
        "data['date'] = pd.to_datetime(data['date'])"
      ],
      "metadata": {
        "id": "crc06rICX04l"
      },
      "execution_count": 14,
      "outputs": []
    },
    {
      "cell_type": "code",
      "source": [
        "data.info()"
      ],
      "metadata": {
        "colab": {
          "base_uri": "https://localhost:8080/"
        },
        "id": "1MmfdEDrYEBV",
        "outputId": "2f0c8c7c-52eb-4e3c-cd88-1803ba4ca273"
      },
      "execution_count": 15,
      "outputs": [
        {
          "output_type": "stream",
          "name": "stdout",
          "text": [
            "<class 'pandas.core.frame.DataFrame'>\n",
            "RangeIndex: 156518 entries, 0 to 156517\n",
            "Data columns (total 16 columns):\n",
            " #   Column                               Non-Null Count   Dtype         \n",
            "---  ------                               --------------   -----         \n",
            " 0   location                             156518 non-null  object        \n",
            " 1   iso_code                             156518 non-null  object        \n",
            " 2   date                                 156518 non-null  datetime64[ns]\n",
            " 3   total_vaccinations                   72497 non-null   float64       \n",
            " 4   people_vaccinated                    69398 non-null   float64       \n",
            " 5   people_fully_vaccinated              66744 non-null   float64       \n",
            " 6   total_boosters                       41255 non-null   float64       \n",
            " 7   daily_vaccinations_raw               60144 non-null   float64       \n",
            " 8   daily_vaccinations                   155416 non-null  float64       \n",
            " 9   total_vaccinations_per_hundred       72497 non-null   float64       \n",
            " 10  people_vaccinated_per_hundred        69398 non-null   float64       \n",
            " 11  people_fully_vaccinated_per_hundred  66744 non-null   float64       \n",
            " 12  total_boosters_per_hundred           41255 non-null   float64       \n",
            " 13  daily_vaccinations_per_million       155416 non-null  float64       \n",
            " 14  daily_people_vaccinated              155335 non-null  float64       \n",
            " 15  daily_people_vaccinated_per_hundred  155335 non-null  float64       \n",
            "dtypes: datetime64[ns](1), float64(13), object(2)\n",
            "memory usage: 19.1+ MB\n"
          ]
        }
      ]
    },
    {
      "cell_type": "markdown",
      "source": [
        "replacing the nan with zeros"
      ],
      "metadata": {
        "id": "HbPJQcdeZyAV"
      }
    },
    {
      "cell_type": "code",
      "source": [
        "data['total_vaccinations']= data['total_vaccinations'].fillna(0)"
      ],
      "metadata": {
        "id": "ZzGHKDA4YawN"
      },
      "execution_count": 19,
      "outputs": []
    },
    {
      "cell_type": "markdown",
      "source": [
        "grouping by date"
      ],
      "metadata": {
        "id": "8Gy2TynYZ48U"
      }
    },
    {
      "cell_type": "code",
      "source": [
        "df = data.groupby(by = ['date'])['total_vaccinations'].sum()"
      ],
      "metadata": {
        "id": "0CvMPTEhYxOJ"
      },
      "execution_count": 20,
      "outputs": []
    },
    {
      "cell_type": "markdown",
      "source": [
        "Plotting the data"
      ],
      "metadata": {
        "id": "S_Ht7RpYaJ5f"
      }
    },
    {
      "cell_type": "code",
      "source": [
        "df"
      ],
      "metadata": {
        "colab": {
          "base_uri": "https://localhost:8080/"
        },
        "id": "scueTkyuatbd",
        "outputId": "ad964680-654d-450d-e55f-0b335e17e295"
      },
      "execution_count": 31,
      "outputs": [
        {
          "output_type": "execute_result",
          "data": {
            "text/plain": [
              "date\n",
              "2020-12-02    0.000000e+00\n",
              "2020-12-03    0.000000e+00\n",
              "2020-12-04    5.000000e+00\n",
              "2020-12-05    4.000000e+00\n",
              "2020-12-06    4.000000e+00\n",
              "                  ...     \n",
              "2023-02-17    4.490975e+10\n",
              "2023-02-18    4.462018e+10\n",
              "2023-02-19    4.535745e+10\n",
              "2023-02-20    4.352706e+10\n",
              "2023-02-21    4.277068e+10\n",
              "Name: total_vaccinations, Length: 812, dtype: float64"
            ]
          },
          "metadata": {},
          "execution_count": 31
        }
      ]
    },
    {
      "cell_type": "code",
      "source": [
        "figure = plt.figure(figsize = (10,6))\n",
        "plt.plot(df)\n",
        "plt.xlabel('Date')\n",
        "plt.ylabel('Total number of vaccinations')\n",
        "plt.xticks(rotation=45)\n",
        "plt.title('Global coronavirus vaccinations over time');"
      ],
      "metadata": {
        "colab": {
          "base_uri": "https://localhost:8080/",
          "height": 431
        },
        "id": "0AajDqfnaAuN",
        "outputId": "7e90d56e-aac9-4d77-ddbe-afed23787295"
      },
      "execution_count": 46,
      "outputs": [
        {
          "output_type": "display_data",
          "data": {
            "text/plain": [
              "<Figure size 720x432 with 1 Axes>"
            ],
            "image/png": "[encoded data removed]"
          },
          "metadata": {
            "needs_background": "light"
          }
        }
      ]
    },
    {
      "cell_type": "markdown",
      "source": [
        "## Regression Analysis:\n",
        "For the regression model, i will first label encode the date column since it is an ordinal data."
      ],
      "metadata": {
        "id": "xcQXKMXM0gwb"
      }
    },
    {
      "cell_type": "code",
      "source": [
        "df = pd.DataFrame(df)\n",
        "df = df.reset_index()"
      ],
      "metadata": {
        "id": "BHtMK3I9dqB1"
      },
      "execution_count": 51,
      "outputs": []
    },
    {
      "cell_type": "markdown",
      "source": [
        "label encoding the date column"
      ],
      "metadata": {
        "id": "o8ZdOzRl04gY"
      }
    },
    {
      "cell_type": "code",
      "source": [
        "first_date = df.iloc[0]['date']"
      ],
      "metadata": {
        "id": "ZhK3M3tg1Czv"
      },
      "execution_count": 65,
      "outputs": []
    },
    {
      "cell_type": "code",
      "source": [
        "df['days'] = df['date'] - first_date"
      ],
      "metadata": {
        "id": "wJYULgXY1Fqn"
      },
      "execution_count": 66,
      "outputs": []
    },
    {
      "cell_type": "code",
      "source": [
        "df['days'] = df['days'].apply(lambda x : int(str(x).split()[0]))"
      ],
      "metadata": {
        "id": "qA1fZl_o1Lff"
      },
      "execution_count": 67,
      "outputs": []
    },
    {
      "cell_type": "markdown",
      "source": [
        "Creating the train and test data"
      ],
      "metadata": {
        "id": "6Mbt7Ea92Dul"
      }
    },
    {
      "cell_type": "code",
      "source": [
        "X = df['days']\n",
        "y = df['total_vaccinations']"
      ],
      "metadata": {
        "id": "KgrXrykq1_HP"
      },
      "execution_count": 96,
      "outputs": []
    },
    {
      "cell_type": "code",
      "source": [
        "from sklearn.model_selection import train_test_split\n",
        "from sklearn.linear_model import LinearRegression "
      ],
      "metadata": {
        "id": "eCYabgkg2K-X"
      },
      "execution_count": 74,
      "outputs": []
    },
    {
      "cell_type": "code",
      "source": [
        "X_train,X_test,y_train,y_test = train_test_split(X,y,train_size= 0.75, random_state = 42)"
      ],
      "metadata": {
        "id": "5KRKwKd12Ubn"
      },
      "execution_count": 75,
      "outputs": []
    },
    {
      "cell_type": "markdown",
      "source": [
        "In the question it was asked to fit the whole data to the model. So rather than the train data I am giving the whole data to the mdoel."
      ],
      "metadata": {
        "id": "7UEzGo8g28Ke"
      }
    },
    {
      "cell_type": "code",
      "source": [
        "model1 = LinearRegression()"
      ],
      "metadata": {
        "id": "Beq0Uisq2uL2"
      },
      "execution_count": 79,
      "outputs": []
    },
    {
      "cell_type": "code",
      "source": [
        "X = np.array(X).reshape(812,-1)\n",
        "y = np.array(y).reshape(812,-1)"
      ],
      "metadata": {
        "id": "NMnimZEQ3THY"
      },
      "execution_count": 98,
      "outputs": []
    },
    {
      "cell_type": "code",
      "source": [
        "model1.fit(X,y)"
      ],
      "metadata": {
        "colab": {
          "base_uri": "https://localhost:8080/"
        },
        "id": "zkB7SfKi3I0W",
        "outputId": "77cd4347-d0a9-4ed1-f708-2aa11016c303"
      },
      "execution_count": 99,
      "outputs": [
        {
          "output_type": "execute_result",
          "data": {
            "text/plain": [
              "LinearRegression()"
            ]
          },
          "metadata": {},
          "execution_count": 99
        }
      ]
    },
    {
      "cell_type": "code",
      "source": [
        "y_pred = model1.predict(X)"
      ],
      "metadata": {
        "id": "bgrdUNnp3Kgv"
      },
      "execution_count": 100,
      "outputs": []
    },
    {
      "cell_type": "markdown",
      "source": [
        "Mean Square Error:"
      ],
      "metadata": {
        "id": "_y_7h9qu4e40"
      }
    },
    {
      "cell_type": "code",
      "source": [
        "from sklearn.metrics import mean_squared_error, r2_score"
      ],
      "metadata": {
        "id": "Sk0eVceO4hlu"
      },
      "execution_count": 106,
      "outputs": []
    },
    {
      "cell_type": "code",
      "source": [
        "mse = mean_squared_error(y,y_pred)\n",
        "r2  = r2_score(y,y_pred)"
      ],
      "metadata": {
        "id": "Fl2VWwIv4xpi"
      },
      "execution_count": 107,
      "outputs": []
    },
    {
      "cell_type": "code",
      "source": [
        "print(f'The root mean square error of our regression is: {np.sqrt(mse)}')\n",
        "print(f\"the R2 score of the model is: {r2}\")"
      ],
      "metadata": {
        "colab": {
          "base_uri": "https://localhost:8080/"
        },
        "id": "Kge1nT9v45-2",
        "outputId": "7c8798bd-ce8e-4099-a75c-a0781b752d58"
      },
      "execution_count": 110,
      "outputs": [
        {
          "output_type": "stream",
          "name": "stdout",
          "text": [
            "The root mean square error of our regression is: 5763831183.782436\n",
            "the R2 score of the model is: 0.9021182108442227\n"
          ]
        }
      ]
    },
    {
      "cell_type": "markdown",
      "source": [
        "plotting the predicted vs actual data"
      ],
      "metadata": {
        "id": "xFoKIEHA3-ph"
      }
    },
    {
      "cell_type": "code",
      "source": [
        "figure = plt.figure(figsize = (10,6))\n",
        "plt.plot(y)\n",
        "plt.plot(y_pred)\n",
        "plt.xlabel('number of days passed')\n",
        "plt.ylabel('Total number of vaccinations')\n",
        "plt.title('Evaluating regression model')\n",
        "plt.legend(['Actual','Regression'])"
      ],
      "metadata": {
        "colab": {
          "base_uri": "https://localhost:8080/",
          "height": 421
        },
        "id": "zyPSqbLJ3gGH",
        "outputId": "3a6248d0-5540-4710-a6fc-d9f3843d1b71"
      },
      "execution_count": 105,
      "outputs": [
        {
          "output_type": "execute_result",
          "data": {
            "text/plain": [
              "<matplotlib.legend.Legend at 0x7efd9dc2aca0>"
            ]
          },
          "metadata": {},
          "execution_count": 105
        },
        {
          "output_type": "display_data",
          "data": {
            "text/plain": [
              "<Figure size 720x432 with 1 Axes>"
            ],
            "image/png": "[encoded data removed]"
          },
          "metadata": {
            "needs_background": "light"
          }
        }
      ]
    },
    {
      "cell_type": "markdown",
      "source": [
        "----"
      ],
      "metadata": {
        "id": "zRq80akO5U23"
      }
    },
    {
      "cell_type": "markdown",
      "source": [
        "## South Korea:"
      ],
      "metadata": {
        "id": "XsgWhVN05WSP"
      }
    },
    {
      "cell_type": "code",
      "source": [
        "sk = data[(data.location == 'South Korea') & (data.date.between(pd.to_datetime('2021-08-01'),pd.to_datetime('2021-10-08')))][['date','total_vaccinations']]"
      ],
      "metadata": {
        "id": "-88JfX_X3jCG"
      },
      "execution_count": 137,
      "outputs": []
    },
    {
      "cell_type": "code",
      "source": [
        "sk = sk.reset_index(drop = True)"
      ],
      "metadata": {
        "id": "N3QPzL7G6iAf"
      },
      "execution_count": 138,
      "outputs": []
    },
    {
      "cell_type": "code",
      "source": [
        "sk['day'] = sk ['date'] - first_date"
      ],
      "metadata": {
        "id": "bWHDO9kF70vO"
      },
      "execution_count": 139,
      "outputs": []
    },
    {
      "cell_type": "code",
      "source": [
        "sk['day'] = sk['day'].apply(lambda x : int(str(x).split()[0]))"
      ],
      "metadata": {
        "id": "rwHeRDpBAmQ9"
      },
      "execution_count": 140,
      "outputs": []
    },
    {
      "cell_type": "code",
      "source": [
        "#train and test data: \n",
        "train  = sk[['day','total_vaccinations']].iloc[:-8,:]\n",
        "test   = sk[['day','total_vaccinations']].iloc[-8:,:]"
      ],
      "metadata": {
        "id": "apAfcqqsAwrW"
      },
      "execution_count": 147,
      "outputs": []
    },
    {
      "cell_type": "code",
      "source": [
        "train.shape"
      ],
      "metadata": {
        "colab": {
          "base_uri": "https://localhost:8080/"
        },
        "id": "b4_j443kA-qW",
        "outputId": "f7c8ecb2-2743-4488-aba4-01fae4b4bdef"
      },
      "execution_count": 148,
      "outputs": [
        {
          "output_type": "execute_result",
          "data": {
            "text/plain": [
              "(61, 2)"
            ]
          },
          "metadata": {},
          "execution_count": 148
        }
      ]
    },
    {
      "cell_type": "code",
      "source": [
        "model2 = LinearRegression()"
      ],
      "metadata": {
        "id": "lDkTnTNdBYi-"
      },
      "execution_count": 149,
      "outputs": []
    },
    {
      "cell_type": "code",
      "source": [
        "x_train = np.array(train['day']).reshape(61,-1)\n",
        "x_test = np.array(test['day']).reshape(-1,1)"
      ],
      "metadata": {
        "id": "jAdSNQSkEr2j"
      },
      "execution_count": 153,
      "outputs": []
    },
    {
      "cell_type": "code",
      "source": [
        "y_train = train['total_vaccinations']\n",
        "y_test  = test['total_vaccinations']"
      ],
      "metadata": {
        "id": "OiwNlBe_EzuN"
      },
      "execution_count": 155,
      "outputs": []
    },
    {
      "cell_type": "code",
      "source": [
        "model2.fit(x_train,y_train)"
      ],
      "metadata": {
        "colab": {
          "base_uri": "https://localhost:8080/"
        },
        "id": "M0LUFKOAFLxI",
        "outputId": "8e42f7ad-be97-46ee-c18c-8b005bd94039"
      },
      "execution_count": 156,
      "outputs": [
        {
          "output_type": "execute_result",
          "data": {
            "text/plain": [
              "LinearRegression()"
            ]
          },
          "metadata": {},
          "execution_count": 156
        }
      ]
    },
    {
      "cell_type": "code",
      "source": [
        "y_pred = model2.predict(x_test)"
      ],
      "metadata": {
        "id": "W7oYfX5KLAS8"
      },
      "execution_count": 158,
      "outputs": []
    },
    {
      "cell_type": "code",
      "source": [
        "#predicting the mean squared error\n",
        "mse = mean_squared_error(y_pred,y_test)\n",
        "rmse = np.sqrt(mse)"
      ],
      "metadata": {
        "id": "8ymfw9NRLLRU"
      },
      "execution_count": 163,
      "outputs": []
    },
    {
      "cell_type": "code",
      "source": [
        "print(f'The RMSE is : {rmse}')\n",
        "print(f'The difference to the given threshold is (rmse - 750000):{rmse - 750000}')\n",
        "print(f'R2 score is : {r2_score(y_pred,y_test)}')"
      ],
      "metadata": {
        "colab": {
          "base_uri": "https://localhost:8080/"
        },
        "id": "PQmdha5jLjes",
        "outputId": "9bbf8101-f896-40e4-de5c-8766bd48eb2e"
      },
      "execution_count": 168,
      "outputs": [
        {
          "output_type": "stream",
          "name": "stdout",
          "text": [
            "The RMSE is : 745358.0723030564\n",
            "The difference to the given threshold is (rmse - 750000):-4641.927696943632\n",
            "R2 score is : 0.7676087442259245\n"
          ]
        }
      ]
    },
    {
      "cell_type": "markdown",
      "source": [
        "As we can see my model perfomrs better than the set threshold"
      ],
      "metadata": {
        "id": "y9I2QT1-LwmC"
      }
    }
  ]
}