{
 "cells": [
  {
   "cell_type": "markdown",
   "metadata": {},
   "source": [
    "## Plaksha Web scraping assignment"
   ]
  },
  {
   "attachments": {
    "Screenshot%202023-01-11%20145146-2.png": {
     "image/png": "[encoded data removed]"
    }
   },
   "cell_type": "markdown",
   "metadata": {},
   "source": [
    "---\n",
    "<a id='sec4'></a>\n",
    "# Assignment problem\n",
    "\n",
    "\n",
    "In this week's assignment you should extract live weather data in Mohali for the next 15 days:\n",
    "\n",
    "[https://weather.com/en-IN/weather/tenday/l/d253814420804f28d49f7a75130e71b797c3c93f9ded842eaf6769e3784da352](https://weather.com/en-IN/weather/tenday/l/d253814420804f28d49f7a75130e71b797c3c93f9ded842eaf6769e3784da352)\n",
    "\n",
    "* Task scrape\n",
    "    * day | period (as Wed 11 | Day, Wed 11 | Night etc.)\n",
    "    * the temperature for the period\n",
    "    * the short description (e.g. Mostly Clear, Sunny etc.)\n",
    "    * the long weather description (e.g. Showers late at night. Low 12ºC. Winds SE at 10 to 15 km/h. Chance of rain 40%.)\n",
    "    \n",
    "Store the scraped data strings in a Pandas DataFrame\n",
    "\n",
    "\n",
    "\n",
    "**Hint:** The weather information is found in a div tag with `class_='DailyForecast--DisclosureList--nosQS'`\n",
    "\n",
    "Your DataFrame should be similar to the below screenshot (with the same columns):\n",
    "\n",
    "![](attachment:Screenshot%202023-01-11%20145146-2.png)"
   ]
  },
  {
   "attachments": {},
   "cell_type": "markdown",
   "metadata": {},
   "source": [
    "__Importing necessary libraries__"
   ]
  },
  {
   "cell_type": "code",
   "execution_count": 64,
   "metadata": {},
   "outputs": [],
   "source": [
    "import requests\n",
    "from bs4 import BeautifulSoup\n",
    "import pandas as pd\n",
    "import numpy as np"
   ]
  },
  {
   "attachments": {},
   "cell_type": "markdown",
   "metadata": {},
   "source": [
    "__Getting the content from the website__"
   ]
  },
  {
   "cell_type": "code",
   "execution_count": 65,
   "metadata": {},
   "outputs": [],
   "source": [
    "source = requests.get('https://weather.com/en-IN/weather/tenday/l/d253814420804f28d49f7a75130e71b797c3c93f9ded842eaf6769e3784da352')"
   ]
  },
  {
   "attachments": {},
   "cell_type": "markdown",
   "metadata": {},
   "source": [
    "__creating the beautiful soup object__"
   ]
  },
  {
   "cell_type": "code",
   "execution_count": 66,
   "metadata": {},
   "outputs": [],
   "source": [
    "soup   = BeautifulSoup(source.content , features='html.parser')"
   ]
  },
  {
   "attachments": {},
   "cell_type": "markdown",
   "metadata": {},
   "source": [
    "__Getting the class with the required information__"
   ]
  },
  {
   "cell_type": "code",
   "execution_count": 68,
   "metadata": {},
   "outputs": [],
   "source": [
    "div = soup.find(class_='DailyForecast--DisclosureList--nosQS')"
   ]
  },
  {
   "attachments": {},
   "cell_type": "markdown",
   "metadata": {},
   "source": [
    "**Extracting the required information**"
   ]
  },
  {
   "cell_type": "code",
   "execution_count": 69,
   "metadata": {},
   "outputs": [],
   "source": [
    "day = div.find_all(class_= 'DailyContent--daypartName--3emSU')\n",
    "day = [d.text for d in day]"
   ]
  },
  {
   "cell_type": "code",
   "execution_count": 70,
   "metadata": {},
   "outputs": [],
   "source": [
    "temp = div.find_all(class_='DailyContent--temp--1s3a7')\n",
    "temp = [t.text for t in temp]"
   ]
  },
  {
   "cell_type": "code",
   "execution_count": 71,
   "metadata": {},
   "outputs": [],
   "source": [
    "short_desc = div.find_all(class_=\"DailyContent--Condition--1zRBJ\")\n",
    "short_desc = [s.text for s in short_desc]\n",
    "short_desc = [s.replace(' Night','') for s in short_desc]"
   ]
  },
  {
   "cell_type": "code",
   "execution_count": 72,
   "metadata": {},
   "outputs": [],
   "source": [
    "desc = div.find_all(class_='DailyContent--narrative--3Ti6_')\n",
    "desc = [n.text for n in desc]"
   ]
  },
  {
   "attachments": {},
   "cell_type": "markdown",
   "metadata": {},
   "source": [
    "**Create the Dataframe**"
   ]
  },
  {
   "cell_type": "code",
   "execution_count": 73,
   "metadata": {},
   "outputs": [],
   "source": [
    "weather = pd.DataFrame({\n",
    "    'day'        : day,\n",
    "    'temp'       : temp,\n",
    "    'short_desc' : short_desc,\n",
    "    'desc'       : desc\n",
    "})"
   ]
  },
  {
   "cell_type": "code",
   "execution_count": 74,
   "metadata": {},
   "outputs": [
    {
     "data": {
      "text/html": [
       "<div>\n",
       "<style scoped>\n",
       "    .dataframe tbody tr th:only-of-type {\n",
       "        vertical-align: middle;\n",
       "    }\n",
       "\n",
       "    .dataframe tbody tr th {\n",
       "        vertical-align: top;\n",
       "    }\n",
       "\n",
       "    .dataframe thead th {\n",
       "        text-align: right;\n",
       "    }\n",
       "</style>\n",
       "<table border=\"1\" class=\"dataframe\">\n",
       "  <thead>\n",
       "    <tr style=\"text-align: right;\">\n",
       "      <th></th>\n",
       "      <th>day</th>\n",
       "      <th>temp</th>\n",
       "      <th>short_desc</th>\n",
       "      <th>desc</th>\n",
       "    </tr>\n",
       "  </thead>\n",
       "  <tbody>\n",
       "    <tr>\n",
       "      <th>0</th>\n",
       "      <td>Fri 20 | Night</td>\n",
       "      <td>8°</td>\n",
       "      <td>Partly Cloudy</td>\n",
       "      <td>Partly cloudy. Low 8ºC. Winds N and variable.</td>\n",
       "    </tr>\n",
       "    <tr>\n",
       "      <th>1</th>\n",
       "      <td>Sat 21 | Day</td>\n",
       "      <td>19°</td>\n",
       "      <td>Sunny</td>\n",
       "      <td>Generally clear. High 19ºC. Winds NW and variable.</td>\n",
       "    </tr>\n",
       "    <tr>\n",
       "      <th>2</th>\n",
       "      <td>Sat 21 | Night</td>\n",
       "      <td>8°</td>\n",
       "      <td>Clear</td>\n",
       "      <td>Generally clear. Low 8ºC. Winds N and variable.</td>\n",
       "    </tr>\n",
       "    <tr>\n",
       "      <th>3</th>\n",
       "      <td>Sun 22 | Day</td>\n",
       "      <td>20°</td>\n",
       "      <td>Sunny</td>\n",
       "      <td>Generally clear. High 20ºC. Winds NNW and variable.</td>\n",
       "    </tr>\n",
       "    <tr>\n",
       "      <th>4</th>\n",
       "      <td>Sun 22 | Night</td>\n",
       "      <td>9°</td>\n",
       "      <td>Mostly Clear</td>\n",
       "      <td>Generally clear. Low 9ºC. Winds NNE and variable.</td>\n",
       "    </tr>\n",
       "    <tr>\n",
       "      <th>5</th>\n",
       "      <td>Mon 23 | Day</td>\n",
       "      <td>20°</td>\n",
       "      <td>Mostly Sunny</td>\n",
       "      <td>Generally clear. High 20ºC. Winds NW and variable.</td>\n",
       "    </tr>\n",
       "    <tr>\n",
       "      <th>6</th>\n",
       "      <td>Mon 23 | Night</td>\n",
       "      <td>11°</td>\n",
       "      <td>Scattered Showers</td>\n",
       "      <td>Showers late at night. Low 11ºC. Winds NNE and variable. Chance of rain 30%.</td>\n",
       "    </tr>\n",
       "    <tr>\n",
       "      <th>7</th>\n",
       "      <td>Tue 24 | Day</td>\n",
       "      <td>19°</td>\n",
       "      <td>Scattered Showers</td>\n",
       "      <td>Showers. High 19ºC. Winds SE at 10 to 15 km/h. Chance of rain 50%.</td>\n",
       "    </tr>\n",
       "    <tr>\n",
       "      <th>8</th>\n",
       "      <td>Tue 24 | Night</td>\n",
       "      <td>12°</td>\n",
       "      <td>Rain</td>\n",
       "      <td>Rain and thunder. Low 12ºC. Winds SE and variable. Chance of rain 60%.</td>\n",
       "    </tr>\n",
       "    <tr>\n",
       "      <th>9</th>\n",
       "      <td>Wed 25 | Day</td>\n",
       "      <td>18°</td>\n",
       "      <td>Scattered Thunderstorms</td>\n",
       "      <td>Scattered thunderstorms. High 18ºC. Winds SE at 10 to 15 km/h. Chance of rain 80%.</td>\n",
       "    </tr>\n",
       "    <tr>\n",
       "      <th>10</th>\n",
       "      <td>Wed 25 | Night</td>\n",
       "      <td>12°</td>\n",
       "      <td>Thunderstorm</td>\n",
       "      <td>Thunderstorms. Low 12ºC. Winds ESE and variable. Chance of rain 80%.</td>\n",
       "    </tr>\n",
       "    <tr>\n",
       "      <th>11</th>\n",
       "      <td>Thu 26 | Day</td>\n",
       "      <td>19°</td>\n",
       "      <td>Scattered Thunderstorms</td>\n",
       "      <td>Scattered thunderstorms. High 19ºC. Winds SSE and variable. Chance of rain 60%.</td>\n",
       "    </tr>\n",
       "    <tr>\n",
       "      <th>12</th>\n",
       "      <td>Thu 26 | Night</td>\n",
       "      <td>12°</td>\n",
       "      <td>Scattered Thunderstorms</td>\n",
       "      <td>Scattered thunderstorms. Low 12ºC. Winds ESE and variable. Chance of rain 60%.</td>\n",
       "    </tr>\n",
       "    <tr>\n",
       "      <th>13</th>\n",
       "      <td>Fri 27 | Day</td>\n",
       "      <td>19°</td>\n",
       "      <td>Scattered Thunderstorms</td>\n",
       "      <td>Scattered thunderstorms. High 19ºC. Winds W at 10 to 15 km/h. Chance of rain 50%.</td>\n",
       "    </tr>\n",
       "    <tr>\n",
       "      <th>14</th>\n",
       "      <td>Fri 27 | Night</td>\n",
       "      <td>11°</td>\n",
       "      <td>Scattered Showers</td>\n",
       "      <td>Showers. Low 11ºC. Winds N and variable. Chance of rain 50%.</td>\n",
       "    </tr>\n",
       "    <tr>\n",
       "      <th>15</th>\n",
       "      <td>Sat 28 | Day</td>\n",
       "      <td>18°</td>\n",
       "      <td>Scattered Showers</td>\n",
       "      <td>Showers. High 18ºC. Winds WNW and variable. Chance of rain 50%.</td>\n",
       "    </tr>\n",
       "    <tr>\n",
       "      <th>16</th>\n",
       "      <td>Sat 28 | Night</td>\n",
       "      <td>11°</td>\n",
       "      <td>Scattered Showers</td>\n",
       "      <td>Showers. Low 11ºC. Winds E and variable. Chance of rain 50%.</td>\n",
       "    </tr>\n",
       "    <tr>\n",
       "      <th>17</th>\n",
       "      <td>Sun 29 | Day</td>\n",
       "      <td>15°</td>\n",
       "      <td>Scattered Showers</td>\n",
       "      <td>Showers. High 15ºC. Winds SSE and variable. Chance of rain 60%.</td>\n",
       "    </tr>\n",
       "    <tr>\n",
       "      <th>18</th>\n",
       "      <td>Sun 29 | Night</td>\n",
       "      <td>9°</td>\n",
       "      <td>Scattered Showers</td>\n",
       "      <td>Showers. Low 9ºC. Winds E and variable. Chance of rain 50%.</td>\n",
       "    </tr>\n",
       "    <tr>\n",
       "      <th>19</th>\n",
       "      <td>Mon 30 | Day</td>\n",
       "      <td>17°</td>\n",
       "      <td>Mostly Sunny</td>\n",
       "      <td>Generally clear. High 17ºC. Winds WNW at 10 to 15 km/h.</td>\n",
       "    </tr>\n",
       "    <tr>\n",
       "      <th>20</th>\n",
       "      <td>Mon 30 | Night</td>\n",
       "      <td>8°</td>\n",
       "      <td>Clear</td>\n",
       "      <td>Generally clear. Low 8ºC. Winds NNW and variable.</td>\n",
       "    </tr>\n",
       "    <tr>\n",
       "      <th>21</th>\n",
       "      <td>Tue 31 | Day</td>\n",
       "      <td>18°</td>\n",
       "      <td>Sunny</td>\n",
       "      <td>Generally clear. High 18ºC. Winds WNW at 10 to 15 km/h.</td>\n",
       "    </tr>\n",
       "    <tr>\n",
       "      <th>22</th>\n",
       "      <td>Tue 31 | Night</td>\n",
       "      <td>7°</td>\n",
       "      <td>Clear</td>\n",
       "      <td>Generally clear. Low 7ºC. Winds NNW and variable.</td>\n",
       "    </tr>\n",
       "    <tr>\n",
       "      <th>23</th>\n",
       "      <td>Wed 01 | Day</td>\n",
       "      <td>18°</td>\n",
       "      <td>Sunny</td>\n",
       "      <td>Generally clear. High 18ºC. Winds WNW at 10 to 15 km/h.</td>\n",
       "    </tr>\n",
       "    <tr>\n",
       "      <th>24</th>\n",
       "      <td>Wed 01 | Night</td>\n",
       "      <td>8°</td>\n",
       "      <td>Mostly Clear</td>\n",
       "      <td>Generally clear. Low 8ºC. Winds NNW and variable.</td>\n",
       "    </tr>\n",
       "    <tr>\n",
       "      <th>25</th>\n",
       "      <td>Thu 02 | Day</td>\n",
       "      <td>18°</td>\n",
       "      <td>Sunny</td>\n",
       "      <td>Generally clear. High 18ºC. Winds WNW at 10 to 15 km/h.</td>\n",
       "    </tr>\n",
       "    <tr>\n",
       "      <th>26</th>\n",
       "      <td>Thu 02 | Night</td>\n",
       "      <td>8°</td>\n",
       "      <td>Clear</td>\n",
       "      <td>Generally clear. Low 8ºC. Winds NNW and variable.</td>\n",
       "    </tr>\n",
       "    <tr>\n",
       "      <th>27</th>\n",
       "      <td>Fri 03 | Day</td>\n",
       "      <td>19°</td>\n",
       "      <td>Sunny</td>\n",
       "      <td>Generally clear. High 19ºC. Winds WNW at 10 to 15 km/h.</td>\n",
       "    </tr>\n",
       "    <tr>\n",
       "      <th>28</th>\n",
       "      <td>Fri 03 | Night</td>\n",
       "      <td>9°</td>\n",
       "      <td>Mostly Clear</td>\n",
       "      <td>Generally clear. Low 9ºC. Winds N and variable.</td>\n",
       "    </tr>\n",
       "  </tbody>\n",
       "</table>\n",
       "</div>"
      ],
      "text/plain": [
       "               day temp               short_desc  \\\n",
       "0   Fri 20 | Night   8°            Partly Cloudy   \n",
       "1     Sat 21 | Day  19°                    Sunny   \n",
       "2   Sat 21 | Night   8°                    Clear   \n",
       "3     Sun 22 | Day  20°                    Sunny   \n",
       "4   Sun 22 | Night   9°             Mostly Clear   \n",
       "5     Mon 23 | Day  20°             Mostly Sunny   \n",
       "6   Mon 23 | Night  11°        Scattered Showers   \n",
       "7     Tue 24 | Day  19°        Scattered Showers   \n",
       "8   Tue 24 | Night  12°                     Rain   \n",
       "9     Wed 25 | Day  18°  Scattered Thunderstorms   \n",
       "10  Wed 25 | Night  12°             Thunderstorm   \n",
       "11    Thu 26 | Day  19°  Scattered Thunderstorms   \n",
       "12  Thu 26 | Night  12°  Scattered Thunderstorms   \n",
       "13    Fri 27 | Day  19°  Scattered Thunderstorms   \n",
       "14  Fri 27 | Night  11°        Scattered Showers   \n",
       "15    Sat 28 | Day  18°        Scattered Showers   \n",
       "16  Sat 28 | Night  11°        Scattered Showers   \n",
       "17    Sun 29 | Day  15°        Scattered Showers   \n",
       "18  Sun 29 | Night   9°        Scattered Showers   \n",
       "19    Mon 30 | Day  17°             Mostly Sunny   \n",
       "20  Mon 30 | Night   8°                    Clear   \n",
       "21    Tue 31 | Day  18°                    Sunny   \n",
       "22  Tue 31 | Night   7°                    Clear   \n",
       "23    Wed 01 | Day  18°                    Sunny   \n",
       "24  Wed 01 | Night   8°             Mostly Clear   \n",
       "25    Thu 02 | Day  18°                    Sunny   \n",
       "26  Thu 02 | Night   8°                    Clear   \n",
       "27    Fri 03 | Day  19°                    Sunny   \n",
       "28  Fri 03 | Night   9°             Mostly Clear   \n",
       "\n",
       "                                                                                  desc  \n",
       "0                                        Partly cloudy. Low 8ºC. Winds N and variable.  \n",
       "1                                   Generally clear. High 19ºC. Winds NW and variable.  \n",
       "2                                      Generally clear. Low 8ºC. Winds N and variable.  \n",
       "3                                  Generally clear. High 20ºC. Winds NNW and variable.  \n",
       "4                                    Generally clear. Low 9ºC. Winds NNE and variable.  \n",
       "5                                   Generally clear. High 20ºC. Winds NW and variable.  \n",
       "6         Showers late at night. Low 11ºC. Winds NNE and variable. Chance of rain 30%.  \n",
       "7                   Showers. High 19ºC. Winds SE at 10 to 15 km/h. Chance of rain 50%.  \n",
       "8               Rain and thunder. Low 12ºC. Winds SE and variable. Chance of rain 60%.  \n",
       "9   Scattered thunderstorms. High 18ºC. Winds SE at 10 to 15 km/h. Chance of rain 80%.  \n",
       "10                Thunderstorms. Low 12ºC. Winds ESE and variable. Chance of rain 80%.  \n",
       "11     Scattered thunderstorms. High 19ºC. Winds SSE and variable. Chance of rain 60%.  \n",
       "12      Scattered thunderstorms. Low 12ºC. Winds ESE and variable. Chance of rain 60%.  \n",
       "13   Scattered thunderstorms. High 19ºC. Winds W at 10 to 15 km/h. Chance of rain 50%.  \n",
       "14                        Showers. Low 11ºC. Winds N and variable. Chance of rain 50%.  \n",
       "15                     Showers. High 18ºC. Winds WNW and variable. Chance of rain 50%.  \n",
       "16                        Showers. Low 11ºC. Winds E and variable. Chance of rain 50%.  \n",
       "17                     Showers. High 15ºC. Winds SSE and variable. Chance of rain 60%.  \n",
       "18                         Showers. Low 9ºC. Winds E and variable. Chance of rain 50%.  \n",
       "19                             Generally clear. High 17ºC. Winds WNW at 10 to 15 km/h.  \n",
       "20                                   Generally clear. Low 8ºC. Winds NNW and variable.  \n",
       "21                             Generally clear. High 18ºC. Winds WNW at 10 to 15 km/h.  \n",
       "22                                   Generally clear. Low 7ºC. Winds NNW and variable.  \n",
       "23                             Generally clear. High 18ºC. Winds WNW at 10 to 15 km/h.  \n",
       "24                                   Generally clear. Low 8ºC. Winds NNW and variable.  \n",
       "25                             Generally clear. High 18ºC. Winds WNW at 10 to 15 km/h.  \n",
       "26                                   Generally clear. Low 8ºC. Winds NNW and variable.  \n",
       "27                             Generally clear. High 19ºC. Winds WNW at 10 to 15 km/h.  \n",
       "28                                     Generally clear. Low 9ºC. Winds N and variable.  "
      ]
     },
     "execution_count": 74,
     "metadata": {},
     "output_type": "execute_result"
    }
   ],
   "source": [
    "pd.set_option('display.max_colwidth', 10000)\n",
    "weather"
   ]
  },
  {
   "attachments": {},
   "cell_type": "markdown",
   "metadata": {},
   "source": [
    "Here I have missed out on the morning data of today since I am doing this project at night."
   ]
  }
 ],
 "metadata": {
  "kernelspec": {
   "display_name": "Python 3",
   "language": "python",
   "name": "python3"
  },
  "language_info": {
   "codemirror_mode": {
    "name": "ipython",
    "version": 3
   },
   "file_extension": ".py",
   "mimetype": "text/x-python",
   "name": "python",
   "nbconvert_exporter": "python",
   "pygments_lexer": "ipython3",
   "version": "3.10.9"
  },
  "vscode": {
   "interpreter": {
    "hash": "fa676f95b428963fc6a22d0f7ab79d1ad8fae9296cc6459b33242ceffa432c07"
   }
  }
 },
 "nbformat": 4,
 "nbformat_minor": 4
}
