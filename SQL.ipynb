{
 "cells": [
  {
   "cell_type": "code",
   "execution_count": 1,
   "metadata": {},
   "outputs": [],
   "source": [
    "import sqlite3"
   ]
  },
  {
   "cell_type": "code",
   "execution_count": 2,
   "metadata": {},
   "outputs": [
    {
     "name": "stdout",
     "output_type": "stream",
     "text": [
      " Volume in drive D is DATA\n",
      " Volume Serial Number is 46EB-29C7\n",
      "\n",
      " Directory of d:\\plaksha\\Term4\\Projects and Applications\n",
      "\n",
      "21-01-2023  22:52    <DIR>          .\n",
      "20-01-2023  01:13    <DIR>          ..\n",
      "21-01-2023  22:50            29,840 Kirubananth_Ass2.ipynb\n",
      "21-01-2023  22:52           230,180 Kirubananth_Ass2.pdf\n",
      "04-02-2023  14:25           519,000 notebook-webscraping_v5.ipynb\n",
      "11-01-2023  21:25            47,108 titanic.ipynb\n",
      "20-01-2023  18:50             7,826 Untitled-1.ipynb\n",
      "               5 File(s)        833,954 bytes\n",
      "               2 Dir(s)  978,988,093,440 bytes free\n"
     ]
    }
   ],
   "source": [
    "!dir"
   ]
  },
  {
   "cell_type": "code",
   "execution_count": 3,
   "metadata": {},
   "outputs": [],
   "source": [
    "connection  = sqlite3.connect('new.db')"
   ]
  },
  {
   "cell_type": "code",
   "execution_count": 4,
   "metadata": {},
   "outputs": [
    {
     "name": "stdout",
     "output_type": "stream",
     "text": [
      " Volume in drive D is DATA\n",
      " Volume Serial Number is 46EB-29C7\n",
      "\n",
      " Directory of d:\\plaksha\\Term4\\Projects and Applications\n",
      "\n",
      "04-02-2023  14:26    <DIR>          .\n",
      "20-01-2023  01:13    <DIR>          ..\n",
      "21-01-2023  22:50            29,840 Kirubananth_Ass2.ipynb\n",
      "21-01-2023  22:52           230,180 Kirubananth_Ass2.pdf\n",
      "04-02-2023  14:26                 0 new.db\n",
      "04-02-2023  14:25           519,000 notebook-webscraping_v5.ipynb\n",
      "11-01-2023  21:25            47,108 titanic.ipynb\n",
      "20-01-2023  18:50             7,826 Untitled-1.ipynb\n",
      "               6 File(s)        833,954 bytes\n",
      "               2 Dir(s)  978,988,093,440 bytes free\n"
     ]
    }
   ],
   "source": [
    "!dir"
   ]
  },
  {
   "cell_type": "code",
   "execution_count": null,
   "metadata": {},
   "outputs": [],
   "source": []
  }
 ],
 "metadata": {
  "kernelspec": {
   "display_name": "Python 3",
   "language": "python",
   "name": "python3"
  },
  "language_info": {
   "codemirror_mode": {
    "name": "ipython",
    "version": 3
   },
   "file_extension": ".py",
   "mimetype": "text/x-python",
   "name": "python",
   "nbconvert_exporter": "python",
   "pygments_lexer": "ipython3",
   "version": "3.10.9"
  },
  "orig_nbformat": 4,
  "vscode": {
   "interpreter": {
    "hash": "fa676f95b428963fc6a22d0f7ab79d1ad8fae9296cc6459b33242ceffa432c07"
   }
  }
 },
 "nbformat": 4,
 "nbformat_minor": 2
}
